{
 "cells": [
  {
   "cell_type": "markdown",
   "id": "e310f0b3",
   "metadata": {},
   "source": [
    "# Diwali Sales Analysis\n",
    "\n",
    "\n",
    "### Work Flow :\n",
    "1. Importing required modules\n",
    "2. Loading the data \n",
    "3. Viweing the data \n",
    "4. Extracting Basic Information about the Dataset:           \n",
    "    a. How big is the data?      \n",
    "    b. How does the data look like?    \n",
    "    c. What is datatypes of the collumn?   \n",
    "    d. How does the data looks mathematically?  \n",
    "    e. Are there any missing values?   \n",
    "    f. Are there any duplicates values?     \n",
    "    g. How is the correlation of the data? \n",
    "5. Nulls and Duplicates Checking and Imputation(If any)\n",
    "6. EDA (Univariate Analysis AND Multivariate Analysis)\n",
    "7. Basic Questions "
   ]
  },
  {
   "cell_type": "markdown",
   "id": "2a1d360e",
   "metadata": {},
   "source": [
    "## Importing All Modules"
   ]
  },
  {
   "cell_type": "code",
   "execution_count": 1,
   "id": "0db5bd4a",
   "metadata": {},
   "outputs": [],
   "source": [
    "# To Load, Transform and Anlyze data\n",
    "import numpy as np \n",
    "import pandas as pd\n",
    "\n",
    "# To Visualize data\n",
    "import matplotlib.pyplot as plt \n",
    "%matplotlib inline\n",
    "import seaborn as sns\n",
    "plt.rcParams['figure.figsize']=[10,5]\n",
    "\n",
    "# To aavoid any Warnings \n",
    "import warnings\n",
    "warnings.filterwarnings('ignore')"
   ]
  },
  {
   "cell_type": "markdown",
   "id": "b402d9f5",
   "metadata": {},
   "source": [
    "## Reading and Viewing Data"
   ]
  },
  {
   "cell_type": "code",
   "execution_count": 2,
   "id": "c85dcc6a",
   "metadata": {},
   "outputs": [],
   "source": [
    "# Reading the data\n",
    "# You can downlad this data from Kaggle or GitHub\n",
    "data= pd.read_csv('C:\\\\Users\\\\DELL\\\\OneDrive\\\\Desktop\\Diwali Sales Analysis\\\\Diwali Sales Data.csv',encoding='unicode_escape')"
   ]
  },
  {
   "cell_type": "code",
   "execution_count": 3,
   "id": "a9bde12f",
   "metadata": {},
   "outputs": [
    {
     "data": {
      "text/html": [
       "<div>\n",
       "<style scoped>\n",
       "    .dataframe tbody tr th:only-of-type {\n",
       "        vertical-align: middle;\n",
       "    }\n",
       "\n",
       "    .dataframe tbody tr th {\n",
       "        vertical-align: top;\n",
       "    }\n",
       "\n",
       "    .dataframe thead th {\n",
       "        text-align: right;\n",
       "    }\n",
       "</style>\n",
       "<table border=\"1\" class=\"dataframe\">\n",
       "  <thead>\n",
       "    <tr style=\"text-align: right;\">\n",
       "      <th></th>\n",
       "      <th>User_ID</th>\n",
       "      <th>Cust_name</th>\n",
       "      <th>Product_ID</th>\n",
       "      <th>Gender</th>\n",
       "      <th>Age Group</th>\n",
       "      <th>Age</th>\n",
       "      <th>Marital_Status</th>\n",
       "      <th>State</th>\n",
       "      <th>Zone</th>\n",
       "      <th>Occupation</th>\n",
       "      <th>Product_Category</th>\n",
       "      <th>Orders</th>\n",
       "      <th>Amount</th>\n",
       "      <th>Status</th>\n",
       "      <th>unnamed1</th>\n",
       "    </tr>\n",
       "  </thead>\n",
       "  <tbody>\n",
       "    <tr>\n",
       "      <th>0</th>\n",
       "      <td>1002903</td>\n",
       "      <td>Sanskriti</td>\n",
       "      <td>P00125942</td>\n",
       "      <td>F</td>\n",
       "      <td>26-35</td>\n",
       "      <td>28</td>\n",
       "      <td>0</td>\n",
       "      <td>Maharashtra</td>\n",
       "      <td>Western</td>\n",
       "      <td>Healthcare</td>\n",
       "      <td>Auto</td>\n",
       "      <td>1</td>\n",
       "      <td>23952.0</td>\n",
       "      <td>NaN</td>\n",
       "      <td>NaN</td>\n",
       "    </tr>\n",
       "    <tr>\n",
       "      <th>1</th>\n",
       "      <td>1000732</td>\n",
       "      <td>Kartik</td>\n",
       "      <td>P00110942</td>\n",
       "      <td>F</td>\n",
       "      <td>26-35</td>\n",
       "      <td>35</td>\n",
       "      <td>1</td>\n",
       "      <td>Andhra Pradesh</td>\n",
       "      <td>Southern</td>\n",
       "      <td>Govt</td>\n",
       "      <td>Auto</td>\n",
       "      <td>3</td>\n",
       "      <td>23934.0</td>\n",
       "      <td>NaN</td>\n",
       "      <td>NaN</td>\n",
       "    </tr>\n",
       "    <tr>\n",
       "      <th>2</th>\n",
       "      <td>1001990</td>\n",
       "      <td>Bindu</td>\n",
       "      <td>P00118542</td>\n",
       "      <td>F</td>\n",
       "      <td>26-35</td>\n",
       "      <td>35</td>\n",
       "      <td>1</td>\n",
       "      <td>Uttar Pradesh</td>\n",
       "      <td>Central</td>\n",
       "      <td>Automobile</td>\n",
       "      <td>Auto</td>\n",
       "      <td>3</td>\n",
       "      <td>23924.0</td>\n",
       "      <td>NaN</td>\n",
       "      <td>NaN</td>\n",
       "    </tr>\n",
       "    <tr>\n",
       "      <th>3</th>\n",
       "      <td>1001425</td>\n",
       "      <td>Sudevi</td>\n",
       "      <td>P00237842</td>\n",
       "      <td>M</td>\n",
       "      <td>0-17</td>\n",
       "      <td>16</td>\n",
       "      <td>0</td>\n",
       "      <td>Karnataka</td>\n",
       "      <td>Southern</td>\n",
       "      <td>Construction</td>\n",
       "      <td>Auto</td>\n",
       "      <td>2</td>\n",
       "      <td>23912.0</td>\n",
       "      <td>NaN</td>\n",
       "      <td>NaN</td>\n",
       "    </tr>\n",
       "    <tr>\n",
       "      <th>4</th>\n",
       "      <td>1000588</td>\n",
       "      <td>Joni</td>\n",
       "      <td>P00057942</td>\n",
       "      <td>M</td>\n",
       "      <td>26-35</td>\n",
       "      <td>28</td>\n",
       "      <td>1</td>\n",
       "      <td>Gujarat</td>\n",
       "      <td>Western</td>\n",
       "      <td>Food Processing</td>\n",
       "      <td>Auto</td>\n",
       "      <td>2</td>\n",
       "      <td>23877.0</td>\n",
       "      <td>NaN</td>\n",
       "      <td>NaN</td>\n",
       "    </tr>\n",
       "  </tbody>\n",
       "</table>\n",
       "</div>"
      ],
      "text/plain": [
       "   User_ID  Cust_name Product_ID Gender Age Group  Age  Marital_Status  \\\n",
       "0  1002903  Sanskriti  P00125942      F     26-35   28               0   \n",
       "1  1000732     Kartik  P00110942      F     26-35   35               1   \n",
       "2  1001990      Bindu  P00118542      F     26-35   35               1   \n",
       "3  1001425     Sudevi  P00237842      M      0-17   16               0   \n",
       "4  1000588       Joni  P00057942      M     26-35   28               1   \n",
       "\n",
       "            State      Zone       Occupation Product_Category  Orders  \\\n",
       "0     Maharashtra   Western       Healthcare             Auto       1   \n",
       "1  Andhra Pradesh  Southern             Govt             Auto       3   \n",
       "2   Uttar Pradesh   Central       Automobile             Auto       3   \n",
       "3       Karnataka  Southern     Construction             Auto       2   \n",
       "4         Gujarat   Western  Food Processing             Auto       2   \n",
       "\n",
       "    Amount  Status  unnamed1  \n",
       "0  23952.0     NaN       NaN  \n",
       "1  23934.0     NaN       NaN  \n",
       "2  23924.0     NaN       NaN  \n",
       "3  23912.0     NaN       NaN  \n",
       "4  23877.0     NaN       NaN  "
      ]
     },
     "execution_count": 3,
     "metadata": {},
     "output_type": "execute_result"
    }
   ],
   "source": [
    "# First 5 observation\n",
    "data.head(5)"
   ]
  },
  {
   "cell_type": "code",
   "execution_count": 4,
   "id": "b9f1e434",
   "metadata": {},
   "outputs": [
    {
     "data": {
      "text/html": [
       "<div>\n",
       "<style scoped>\n",
       "    .dataframe tbody tr th:only-of-type {\n",
       "        vertical-align: middle;\n",
       "    }\n",
       "\n",
       "    .dataframe tbody tr th {\n",
       "        vertical-align: top;\n",
       "    }\n",
       "\n",
       "    .dataframe thead th {\n",
       "        text-align: right;\n",
       "    }\n",
       "</style>\n",
       "<table border=\"1\" class=\"dataframe\">\n",
       "  <thead>\n",
       "    <tr style=\"text-align: right;\">\n",
       "      <th></th>\n",
       "      <th>User_ID</th>\n",
       "      <th>Cust_name</th>\n",
       "      <th>Product_ID</th>\n",
       "      <th>Gender</th>\n",
       "      <th>Age Group</th>\n",
       "      <th>Age</th>\n",
       "      <th>Marital_Status</th>\n",
       "      <th>State</th>\n",
       "      <th>Zone</th>\n",
       "      <th>Occupation</th>\n",
       "      <th>Product_Category</th>\n",
       "      <th>Orders</th>\n",
       "      <th>Amount</th>\n",
       "      <th>Status</th>\n",
       "      <th>unnamed1</th>\n",
       "    </tr>\n",
       "  </thead>\n",
       "  <tbody>\n",
       "    <tr>\n",
       "      <th>11246</th>\n",
       "      <td>1000695</td>\n",
       "      <td>Manning</td>\n",
       "      <td>P00296942</td>\n",
       "      <td>M</td>\n",
       "      <td>18-25</td>\n",
       "      <td>19</td>\n",
       "      <td>1</td>\n",
       "      <td>Maharashtra</td>\n",
       "      <td>Western</td>\n",
       "      <td>Chemical</td>\n",
       "      <td>Office</td>\n",
       "      <td>4</td>\n",
       "      <td>370.0</td>\n",
       "      <td>NaN</td>\n",
       "      <td>NaN</td>\n",
       "    </tr>\n",
       "    <tr>\n",
       "      <th>11247</th>\n",
       "      <td>1004089</td>\n",
       "      <td>Reichenbach</td>\n",
       "      <td>P00171342</td>\n",
       "      <td>M</td>\n",
       "      <td>26-35</td>\n",
       "      <td>33</td>\n",
       "      <td>0</td>\n",
       "      <td>Haryana</td>\n",
       "      <td>Northern</td>\n",
       "      <td>Healthcare</td>\n",
       "      <td>Veterinary</td>\n",
       "      <td>3</td>\n",
       "      <td>367.0</td>\n",
       "      <td>NaN</td>\n",
       "      <td>NaN</td>\n",
       "    </tr>\n",
       "    <tr>\n",
       "      <th>11248</th>\n",
       "      <td>1001209</td>\n",
       "      <td>Oshin</td>\n",
       "      <td>P00201342</td>\n",
       "      <td>F</td>\n",
       "      <td>36-45</td>\n",
       "      <td>40</td>\n",
       "      <td>0</td>\n",
       "      <td>Madhya Pradesh</td>\n",
       "      <td>Central</td>\n",
       "      <td>Textile</td>\n",
       "      <td>Office</td>\n",
       "      <td>4</td>\n",
       "      <td>213.0</td>\n",
       "      <td>NaN</td>\n",
       "      <td>NaN</td>\n",
       "    </tr>\n",
       "    <tr>\n",
       "      <th>11249</th>\n",
       "      <td>1004023</td>\n",
       "      <td>Noonan</td>\n",
       "      <td>P00059442</td>\n",
       "      <td>M</td>\n",
       "      <td>36-45</td>\n",
       "      <td>37</td>\n",
       "      <td>0</td>\n",
       "      <td>Karnataka</td>\n",
       "      <td>Southern</td>\n",
       "      <td>Agriculture</td>\n",
       "      <td>Office</td>\n",
       "      <td>3</td>\n",
       "      <td>206.0</td>\n",
       "      <td>NaN</td>\n",
       "      <td>NaN</td>\n",
       "    </tr>\n",
       "    <tr>\n",
       "      <th>11250</th>\n",
       "      <td>1002744</td>\n",
       "      <td>Brumley</td>\n",
       "      <td>P00281742</td>\n",
       "      <td>F</td>\n",
       "      <td>18-25</td>\n",
       "      <td>19</td>\n",
       "      <td>0</td>\n",
       "      <td>Maharashtra</td>\n",
       "      <td>Western</td>\n",
       "      <td>Healthcare</td>\n",
       "      <td>Office</td>\n",
       "      <td>3</td>\n",
       "      <td>188.0</td>\n",
       "      <td>NaN</td>\n",
       "      <td>NaN</td>\n",
       "    </tr>\n",
       "  </tbody>\n",
       "</table>\n",
       "</div>"
      ],
      "text/plain": [
       "       User_ID    Cust_name Product_ID Gender Age Group  Age  Marital_Status  \\\n",
       "11246  1000695      Manning  P00296942      M     18-25   19               1   \n",
       "11247  1004089  Reichenbach  P00171342      M     26-35   33               0   \n",
       "11248  1001209        Oshin  P00201342      F     36-45   40               0   \n",
       "11249  1004023       Noonan  P00059442      M     36-45   37               0   \n",
       "11250  1002744      Brumley  P00281742      F     18-25   19               0   \n",
       "\n",
       "                State      Zone   Occupation Product_Category  Orders  Amount  \\\n",
       "11246     Maharashtra   Western     Chemical           Office       4   370.0   \n",
       "11247         Haryana  Northern   Healthcare       Veterinary       3   367.0   \n",
       "11248  Madhya Pradesh   Central      Textile           Office       4   213.0   \n",
       "11249       Karnataka  Southern  Agriculture           Office       3   206.0   \n",
       "11250     Maharashtra   Western   Healthcare           Office       3   188.0   \n",
       "\n",
       "       Status  unnamed1  \n",
       "11246     NaN       NaN  \n",
       "11247     NaN       NaN  \n",
       "11248     NaN       NaN  \n",
       "11249     NaN       NaN  \n",
       "11250     NaN       NaN  "
      ]
     },
     "execution_count": 4,
     "metadata": {},
     "output_type": "execute_result"
    }
   ],
   "source": [
    "# Last 5 observation\n",
    "data.tail(5)"
   ]
  },
  {
   "cell_type": "code",
   "execution_count": 5,
   "id": "f3f45290",
   "metadata": {},
   "outputs": [
    {
     "data": {
      "text/html": [
       "<div>\n",
       "<style scoped>\n",
       "    .dataframe tbody tr th:only-of-type {\n",
       "        vertical-align: middle;\n",
       "    }\n",
       "\n",
       "    .dataframe tbody tr th {\n",
       "        vertical-align: top;\n",
       "    }\n",
       "\n",
       "    .dataframe thead th {\n",
       "        text-align: right;\n",
       "    }\n",
       "</style>\n",
       "<table border=\"1\" class=\"dataframe\">\n",
       "  <thead>\n",
       "    <tr style=\"text-align: right;\">\n",
       "      <th></th>\n",
       "      <th>User_ID</th>\n",
       "      <th>Cust_name</th>\n",
       "      <th>Product_ID</th>\n",
       "      <th>Gender</th>\n",
       "      <th>Age Group</th>\n",
       "      <th>Age</th>\n",
       "      <th>Marital_Status</th>\n",
       "      <th>State</th>\n",
       "      <th>Zone</th>\n",
       "      <th>Occupation</th>\n",
       "      <th>Product_Category</th>\n",
       "      <th>Orders</th>\n",
       "      <th>Amount</th>\n",
       "      <th>Status</th>\n",
       "      <th>unnamed1</th>\n",
       "    </tr>\n",
       "  </thead>\n",
       "  <tbody>\n",
       "    <tr>\n",
       "      <th>6992</th>\n",
       "      <td>1001051</td>\n",
       "      <td>Aastha</td>\n",
       "      <td>P00123142</td>\n",
       "      <td>M</td>\n",
       "      <td>26-35</td>\n",
       "      <td>32</td>\n",
       "      <td>1</td>\n",
       "      <td>Delhi</td>\n",
       "      <td>Central</td>\n",
       "      <td>Hospitality</td>\n",
       "      <td>Clothing &amp; Apparel</td>\n",
       "      <td>1</td>\n",
       "      <td>7098.0</td>\n",
       "      <td>NaN</td>\n",
       "      <td>NaN</td>\n",
       "    </tr>\n",
       "    <tr>\n",
       "      <th>1170</th>\n",
       "      <td>1002295</td>\n",
       "      <td>Campbell</td>\n",
       "      <td>P00262242</td>\n",
       "      <td>F</td>\n",
       "      <td>46-50</td>\n",
       "      <td>50</td>\n",
       "      <td>1</td>\n",
       "      <td>Uttar Pradesh</td>\n",
       "      <td>Central</td>\n",
       "      <td>Hospitality</td>\n",
       "      <td>Furniture</td>\n",
       "      <td>2</td>\n",
       "      <td>16706.0</td>\n",
       "      <td>NaN</td>\n",
       "      <td>NaN</td>\n",
       "    </tr>\n",
       "    <tr>\n",
       "      <th>9527</th>\n",
       "      <td>1001070</td>\n",
       "      <td>Martin</td>\n",
       "      <td>P00113242</td>\n",
       "      <td>M</td>\n",
       "      <td>46-50</td>\n",
       "      <td>50</td>\n",
       "      <td>1</td>\n",
       "      <td>Bihar</td>\n",
       "      <td>Eastern</td>\n",
       "      <td>Healthcare</td>\n",
       "      <td>Electronics &amp; Gadgets</td>\n",
       "      <td>1</td>\n",
       "      <td>3977.0</td>\n",
       "      <td>NaN</td>\n",
       "      <td>NaN</td>\n",
       "    </tr>\n",
       "    <tr>\n",
       "      <th>5777</th>\n",
       "      <td>1003746</td>\n",
       "      <td>Vaibhavi</td>\n",
       "      <td>P00046742</td>\n",
       "      <td>F</td>\n",
       "      <td>26-35</td>\n",
       "      <td>32</td>\n",
       "      <td>0</td>\n",
       "      <td>Gujarat</td>\n",
       "      <td>Western</td>\n",
       "      <td>Hospitality</td>\n",
       "      <td>Electronics &amp; Gadgets</td>\n",
       "      <td>3</td>\n",
       "      <td>8062.0</td>\n",
       "      <td>NaN</td>\n",
       "      <td>NaN</td>\n",
       "    </tr>\n",
       "    <tr>\n",
       "      <th>9298</th>\n",
       "      <td>1000351</td>\n",
       "      <td>Ludtke</td>\n",
       "      <td>P00034042</td>\n",
       "      <td>F</td>\n",
       "      <td>18-25</td>\n",
       "      <td>20</td>\n",
       "      <td>1</td>\n",
       "      <td>Uttar Pradesh</td>\n",
       "      <td>Central</td>\n",
       "      <td>Aviation</td>\n",
       "      <td>Food</td>\n",
       "      <td>3</td>\n",
       "      <td>4276.0</td>\n",
       "      <td>NaN</td>\n",
       "      <td>NaN</td>\n",
       "    </tr>\n",
       "  </tbody>\n",
       "</table>\n",
       "</div>"
      ],
      "text/plain": [
       "      User_ID Cust_name Product_ID Gender Age Group  Age  Marital_Status  \\\n",
       "6992  1001051    Aastha  P00123142      M     26-35   32               1   \n",
       "1170  1002295  Campbell  P00262242      F     46-50   50               1   \n",
       "9527  1001070    Martin  P00113242      M     46-50   50               1   \n",
       "5777  1003746  Vaibhavi  P00046742      F     26-35   32               0   \n",
       "9298  1000351    Ludtke  P00034042      F     18-25   20               1   \n",
       "\n",
       "              State     Zone   Occupation       Product_Category  Orders  \\\n",
       "6992          Delhi  Central  Hospitality     Clothing & Apparel       1   \n",
       "1170  Uttar Pradesh  Central  Hospitality              Furniture       2   \n",
       "9527          Bihar  Eastern   Healthcare  Electronics & Gadgets       1   \n",
       "5777        Gujarat  Western  Hospitality  Electronics & Gadgets       3   \n",
       "9298  Uttar Pradesh  Central     Aviation                   Food       3   \n",
       "\n",
       "       Amount  Status  unnamed1  \n",
       "6992   7098.0     NaN       NaN  \n",
       "1170  16706.0     NaN       NaN  \n",
       "9527   3977.0     NaN       NaN  \n",
       "5777   8062.0     NaN       NaN  \n",
       "9298   4276.0     NaN       NaN  "
      ]
     },
     "execution_count": 5,
     "metadata": {},
     "output_type": "execute_result"
    }
   ],
   "source": [
    "# Random 5 observation \n",
    "data.sample(5)"
   ]
  },
  {
   "cell_type": "markdown",
   "id": "16261f7e",
   "metadata": {},
   "source": [
    "## Basic Informations about this data"
   ]
  },
  {
   "cell_type": "code",
   "execution_count": 6,
   "id": "d5674dff",
   "metadata": {},
   "outputs": [
    {
     "data": {
      "text/plain": [
       "(11251, 15)"
      ]
     },
     "execution_count": 6,
     "metadata": {},
     "output_type": "execute_result"
    }
   ],
   "source": [
    "# Number of Row and Columns\n",
    "data.shape                                     "
   ]
  },
  {
   "cell_type": "code",
   "execution_count": 7,
   "id": "a5c6ef2f",
   "metadata": {},
   "outputs": [
    {
     "data": {
      "text/plain": [
       "RangeIndex(start=0, stop=11251, step=1)"
      ]
     },
     "execution_count": 7,
     "metadata": {},
     "output_type": "execute_result"
    }
   ],
   "source": [
    "# Index Name\n",
    "data.index                                     "
   ]
  },
  {
   "cell_type": "code",
   "execution_count": 8,
   "id": "e765f138",
   "metadata": {},
   "outputs": [
    {
     "data": {
      "text/plain": [
       "Index(['User_ID', 'Cust_name', 'Product_ID', 'Gender', 'Age Group', 'Age',\n",
       "       'Marital_Status', 'State', 'Zone', 'Occupation', 'Product_Category',\n",
       "       'Orders', 'Amount', 'Status', 'unnamed1'],\n",
       "      dtype='object')"
      ]
     },
     "execution_count": 8,
     "metadata": {},
     "output_type": "execute_result"
    }
   ],
   "source": [
    "# Column Name\n",
    "data.columns                                   "
   ]
  },
  {
   "cell_type": "code",
   "execution_count": 9,
   "id": "02f9ca14",
   "metadata": {},
   "outputs": [
    {
     "data": {
      "text/plain": [
       "User_ID               int64\n",
       "Cust_name            object\n",
       "Product_ID           object\n",
       "Gender               object\n",
       "Age Group            object\n",
       "Age                   int64\n",
       "Marital_Status        int64\n",
       "State                object\n",
       "Zone                 object\n",
       "Occupation           object\n",
       "Product_Category     object\n",
       "Orders                int64\n",
       "Amount              float64\n",
       "Status              float64\n",
       "unnamed1            float64\n",
       "dtype: object"
      ]
     },
     "execution_count": 9,
     "metadata": {},
     "output_type": "execute_result"
    }
   ],
   "source": [
    "# Datatype of each column\n",
    "data.dtypes                                    "
   ]
  },
  {
   "cell_type": "code",
   "execution_count": 10,
   "id": "02e7f920",
   "metadata": {},
   "outputs": [
    {
     "name": "stdout",
     "output_type": "stream",
     "text": [
      "<class 'pandas.core.frame.DataFrame'>\n",
      "RangeIndex: 11251 entries, 0 to 11250\n",
      "Data columns (total 15 columns):\n",
      " #   Column            Non-Null Count  Dtype  \n",
      "---  ------            --------------  -----  \n",
      " 0   User_ID           11251 non-null  int64  \n",
      " 1   Cust_name         11251 non-null  object \n",
      " 2   Product_ID        11251 non-null  object \n",
      " 3   Gender            11251 non-null  object \n",
      " 4   Age Group         11251 non-null  object \n",
      " 5   Age               11251 non-null  int64  \n",
      " 6   Marital_Status    11251 non-null  int64  \n",
      " 7   State             11251 non-null  object \n",
      " 8   Zone              11251 non-null  object \n",
      " 9   Occupation        11251 non-null  object \n",
      " 10  Product_Category  11251 non-null  object \n",
      " 11  Orders            11251 non-null  int64  \n",
      " 12  Amount            11239 non-null  float64\n",
      " 13  Status            0 non-null      float64\n",
      " 14  unnamed1          0 non-null      float64\n",
      "dtypes: float64(3), int64(4), object(8)\n",
      "memory usage: 1.3+ MB\n"
     ]
    }
   ],
   "source": [
    "# Basic Information about each column\n",
    "data.info()"
   ]
  },
  {
   "cell_type": "code",
   "execution_count": 11,
   "id": "15ba5cd2",
   "metadata": {},
   "outputs": [
    {
     "data": {
      "text/plain": [
       "168765"
      ]
     },
     "execution_count": 11,
     "metadata": {},
     "output_type": "execute_result"
    }
   ],
   "source": [
    "# Number of element \n",
    "data.size"
   ]
  },
  {
   "cell_type": "code",
   "execution_count": 12,
   "id": "6aa723f5",
   "metadata": {},
   "outputs": [
    {
     "data": {
      "text/html": [
       "<div>\n",
       "<style scoped>\n",
       "    .dataframe tbody tr th:only-of-type {\n",
       "        vertical-align: middle;\n",
       "    }\n",
       "\n",
       "    .dataframe tbody tr th {\n",
       "        vertical-align: top;\n",
       "    }\n",
       "\n",
       "    .dataframe thead th {\n",
       "        text-align: right;\n",
       "    }\n",
       "</style>\n",
       "<table border=\"1\" class=\"dataframe\">\n",
       "  <thead>\n",
       "    <tr style=\"text-align: right;\">\n",
       "      <th></th>\n",
       "      <th>User_ID</th>\n",
       "      <th>Cust_name</th>\n",
       "      <th>Product_ID</th>\n",
       "      <th>Gender</th>\n",
       "      <th>Age Group</th>\n",
       "      <th>Age</th>\n",
       "      <th>Marital_Status</th>\n",
       "      <th>State</th>\n",
       "      <th>Zone</th>\n",
       "      <th>Occupation</th>\n",
       "      <th>Product_Category</th>\n",
       "      <th>Orders</th>\n",
       "      <th>Amount</th>\n",
       "      <th>Status</th>\n",
       "      <th>unnamed1</th>\n",
       "    </tr>\n",
       "  </thead>\n",
       "  <tbody>\n",
       "    <tr>\n",
       "      <th>count</th>\n",
       "      <td>1.125100e+04</td>\n",
       "      <td>11251</td>\n",
       "      <td>11251</td>\n",
       "      <td>11251</td>\n",
       "      <td>11251</td>\n",
       "      <td>11251.000000</td>\n",
       "      <td>11251.000000</td>\n",
       "      <td>11251</td>\n",
       "      <td>11251</td>\n",
       "      <td>11251</td>\n",
       "      <td>11251</td>\n",
       "      <td>11251.000000</td>\n",
       "      <td>11239.000000</td>\n",
       "      <td>0.0</td>\n",
       "      <td>0.0</td>\n",
       "    </tr>\n",
       "    <tr>\n",
       "      <th>unique</th>\n",
       "      <td>NaN</td>\n",
       "      <td>1250</td>\n",
       "      <td>2351</td>\n",
       "      <td>2</td>\n",
       "      <td>7</td>\n",
       "      <td>NaN</td>\n",
       "      <td>NaN</td>\n",
       "      <td>16</td>\n",
       "      <td>5</td>\n",
       "      <td>15</td>\n",
       "      <td>18</td>\n",
       "      <td>NaN</td>\n",
       "      <td>NaN</td>\n",
       "      <td>NaN</td>\n",
       "      <td>NaN</td>\n",
       "    </tr>\n",
       "    <tr>\n",
       "      <th>top</th>\n",
       "      <td>NaN</td>\n",
       "      <td>Vishakha</td>\n",
       "      <td>P00265242</td>\n",
       "      <td>F</td>\n",
       "      <td>26-35</td>\n",
       "      <td>NaN</td>\n",
       "      <td>NaN</td>\n",
       "      <td>Uttar Pradesh</td>\n",
       "      <td>Central</td>\n",
       "      <td>IT Sector</td>\n",
       "      <td>Clothing &amp; Apparel</td>\n",
       "      <td>NaN</td>\n",
       "      <td>NaN</td>\n",
       "      <td>NaN</td>\n",
       "      <td>NaN</td>\n",
       "    </tr>\n",
       "    <tr>\n",
       "      <th>freq</th>\n",
       "      <td>NaN</td>\n",
       "      <td>42</td>\n",
       "      <td>53</td>\n",
       "      <td>7842</td>\n",
       "      <td>4543</td>\n",
       "      <td>NaN</td>\n",
       "      <td>NaN</td>\n",
       "      <td>1946</td>\n",
       "      <td>4296</td>\n",
       "      <td>1588</td>\n",
       "      <td>2655</td>\n",
       "      <td>NaN</td>\n",
       "      <td>NaN</td>\n",
       "      <td>NaN</td>\n",
       "      <td>NaN</td>\n",
       "    </tr>\n",
       "    <tr>\n",
       "      <th>mean</th>\n",
       "      <td>1.003004e+06</td>\n",
       "      <td>NaN</td>\n",
       "      <td>NaN</td>\n",
       "      <td>NaN</td>\n",
       "      <td>NaN</td>\n",
       "      <td>35.421207</td>\n",
       "      <td>0.420318</td>\n",
       "      <td>NaN</td>\n",
       "      <td>NaN</td>\n",
       "      <td>NaN</td>\n",
       "      <td>NaN</td>\n",
       "      <td>2.489290</td>\n",
       "      <td>9453.610858</td>\n",
       "      <td>NaN</td>\n",
       "      <td>NaN</td>\n",
       "    </tr>\n",
       "    <tr>\n",
       "      <th>std</th>\n",
       "      <td>1.716125e+03</td>\n",
       "      <td>NaN</td>\n",
       "      <td>NaN</td>\n",
       "      <td>NaN</td>\n",
       "      <td>NaN</td>\n",
       "      <td>12.754122</td>\n",
       "      <td>0.493632</td>\n",
       "      <td>NaN</td>\n",
       "      <td>NaN</td>\n",
       "      <td>NaN</td>\n",
       "      <td>NaN</td>\n",
       "      <td>1.115047</td>\n",
       "      <td>5222.355869</td>\n",
       "      <td>NaN</td>\n",
       "      <td>NaN</td>\n",
       "    </tr>\n",
       "    <tr>\n",
       "      <th>min</th>\n",
       "      <td>1.000001e+06</td>\n",
       "      <td>NaN</td>\n",
       "      <td>NaN</td>\n",
       "      <td>NaN</td>\n",
       "      <td>NaN</td>\n",
       "      <td>12.000000</td>\n",
       "      <td>0.000000</td>\n",
       "      <td>NaN</td>\n",
       "      <td>NaN</td>\n",
       "      <td>NaN</td>\n",
       "      <td>NaN</td>\n",
       "      <td>1.000000</td>\n",
       "      <td>188.000000</td>\n",
       "      <td>NaN</td>\n",
       "      <td>NaN</td>\n",
       "    </tr>\n",
       "    <tr>\n",
       "      <th>25%</th>\n",
       "      <td>1.001492e+06</td>\n",
       "      <td>NaN</td>\n",
       "      <td>NaN</td>\n",
       "      <td>NaN</td>\n",
       "      <td>NaN</td>\n",
       "      <td>27.000000</td>\n",
       "      <td>0.000000</td>\n",
       "      <td>NaN</td>\n",
       "      <td>NaN</td>\n",
       "      <td>NaN</td>\n",
       "      <td>NaN</td>\n",
       "      <td>1.500000</td>\n",
       "      <td>5443.000000</td>\n",
       "      <td>NaN</td>\n",
       "      <td>NaN</td>\n",
       "    </tr>\n",
       "    <tr>\n",
       "      <th>50%</th>\n",
       "      <td>1.003065e+06</td>\n",
       "      <td>NaN</td>\n",
       "      <td>NaN</td>\n",
       "      <td>NaN</td>\n",
       "      <td>NaN</td>\n",
       "      <td>33.000000</td>\n",
       "      <td>0.000000</td>\n",
       "      <td>NaN</td>\n",
       "      <td>NaN</td>\n",
       "      <td>NaN</td>\n",
       "      <td>NaN</td>\n",
       "      <td>2.000000</td>\n",
       "      <td>8109.000000</td>\n",
       "      <td>NaN</td>\n",
       "      <td>NaN</td>\n",
       "    </tr>\n",
       "    <tr>\n",
       "      <th>75%</th>\n",
       "      <td>1.004430e+06</td>\n",
       "      <td>NaN</td>\n",
       "      <td>NaN</td>\n",
       "      <td>NaN</td>\n",
       "      <td>NaN</td>\n",
       "      <td>43.000000</td>\n",
       "      <td>1.000000</td>\n",
       "      <td>NaN</td>\n",
       "      <td>NaN</td>\n",
       "      <td>NaN</td>\n",
       "      <td>NaN</td>\n",
       "      <td>3.000000</td>\n",
       "      <td>12675.000000</td>\n",
       "      <td>NaN</td>\n",
       "      <td>NaN</td>\n",
       "    </tr>\n",
       "    <tr>\n",
       "      <th>max</th>\n",
       "      <td>1.006040e+06</td>\n",
       "      <td>NaN</td>\n",
       "      <td>NaN</td>\n",
       "      <td>NaN</td>\n",
       "      <td>NaN</td>\n",
       "      <td>92.000000</td>\n",
       "      <td>1.000000</td>\n",
       "      <td>NaN</td>\n",
       "      <td>NaN</td>\n",
       "      <td>NaN</td>\n",
       "      <td>NaN</td>\n",
       "      <td>4.000000</td>\n",
       "      <td>23952.000000</td>\n",
       "      <td>NaN</td>\n",
       "      <td>NaN</td>\n",
       "    </tr>\n",
       "  </tbody>\n",
       "</table>\n",
       "</div>"
      ],
      "text/plain": [
       "             User_ID Cust_name Product_ID Gender Age Group           Age  \\\n",
       "count   1.125100e+04     11251      11251  11251     11251  11251.000000   \n",
       "unique           NaN      1250       2351      2         7           NaN   \n",
       "top              NaN  Vishakha  P00265242      F     26-35           NaN   \n",
       "freq             NaN        42         53   7842      4543           NaN   \n",
       "mean    1.003004e+06       NaN        NaN    NaN       NaN     35.421207   \n",
       "std     1.716125e+03       NaN        NaN    NaN       NaN     12.754122   \n",
       "min     1.000001e+06       NaN        NaN    NaN       NaN     12.000000   \n",
       "25%     1.001492e+06       NaN        NaN    NaN       NaN     27.000000   \n",
       "50%     1.003065e+06       NaN        NaN    NaN       NaN     33.000000   \n",
       "75%     1.004430e+06       NaN        NaN    NaN       NaN     43.000000   \n",
       "max     1.006040e+06       NaN        NaN    NaN       NaN     92.000000   \n",
       "\n",
       "        Marital_Status          State     Zone Occupation    Product_Category  \\\n",
       "count     11251.000000          11251    11251      11251               11251   \n",
       "unique             NaN             16        5         15                  18   \n",
       "top                NaN  Uttar Pradesh  Central  IT Sector  Clothing & Apparel   \n",
       "freq               NaN           1946     4296       1588                2655   \n",
       "mean          0.420318            NaN      NaN        NaN                 NaN   \n",
       "std           0.493632            NaN      NaN        NaN                 NaN   \n",
       "min           0.000000            NaN      NaN        NaN                 NaN   \n",
       "25%           0.000000            NaN      NaN        NaN                 NaN   \n",
       "50%           0.000000            NaN      NaN        NaN                 NaN   \n",
       "75%           1.000000            NaN      NaN        NaN                 NaN   \n",
       "max           1.000000            NaN      NaN        NaN                 NaN   \n",
       "\n",
       "              Orders        Amount  Status  unnamed1  \n",
       "count   11251.000000  11239.000000     0.0       0.0  \n",
       "unique           NaN           NaN     NaN       NaN  \n",
       "top              NaN           NaN     NaN       NaN  \n",
       "freq             NaN           NaN     NaN       NaN  \n",
       "mean        2.489290   9453.610858     NaN       NaN  \n",
       "std         1.115047   5222.355869     NaN       NaN  \n",
       "min         1.000000    188.000000     NaN       NaN  \n",
       "25%         1.500000   5443.000000     NaN       NaN  \n",
       "50%         2.000000   8109.000000     NaN       NaN  \n",
       "75%         3.000000  12675.000000     NaN       NaN  \n",
       "max         4.000000  23952.000000     NaN       NaN  "
      ]
     },
     "execution_count": 12,
     "metadata": {},
     "output_type": "execute_result"
    }
   ],
   "source": [
    "# Statistical Summery \n",
    "data.describe(include='all')"
   ]
  },
  {
   "cell_type": "markdown",
   "id": "3b45ae34",
   "metadata": {},
   "source": [
    "### Conclussion: \n",
    "1. This dataset has 11251 rows and 15 columns.\n",
    "2. And the column names are 'User_ID', 'Cust_name', 'Product_ID', 'Gender', 'Age Group', 'Age', 'Marital_Status', 'State', 'Zone', 'Occupation', 'Product_Category', 'Orders', 'Amount', 'Status', 'unnamed1'"
   ]
  },
  {
   "cell_type": "markdown",
   "id": "70a0559a",
   "metadata": {},
   "source": [
    "## Nulls and Duplicates Checking and Handling"
   ]
  },
  {
   "cell_type": "code",
   "execution_count": 13,
   "id": "3556713d",
   "metadata": {},
   "outputs": [
    {
     "data": {
      "text/plain": [
       "User_ID                 0\n",
       "Cust_name               0\n",
       "Product_ID              0\n",
       "Gender                  0\n",
       "Age Group               0\n",
       "Age                     0\n",
       "Marital_Status          0\n",
       "State                   0\n",
       "Zone                    0\n",
       "Occupation              0\n",
       "Product_Category        0\n",
       "Orders                  0\n",
       "Amount                 12\n",
       "Status              11251\n",
       "unnamed1            11251\n",
       "dtype: int64"
      ]
     },
     "execution_count": 13,
     "metadata": {},
     "output_type": "execute_result"
    }
   ],
   "source": [
    "# Checking Nulls\n",
    "data.isnull().sum()"
   ]
  },
  {
   "cell_type": "code",
   "execution_count": 14,
   "id": "a7329496",
   "metadata": {},
   "outputs": [
    {
     "data": {
      "text/plain": [
       "8"
      ]
     },
     "execution_count": 14,
     "metadata": {},
     "output_type": "execute_result"
    }
   ],
   "source": [
    "# Checking duplicates\n",
    "data.duplicated().sum()"
   ]
  },
  {
   "cell_type": "code",
   "execution_count": 15,
   "id": "aabe1062",
   "metadata": {},
   "outputs": [
    {
     "data": {
      "text/html": [
       "<div>\n",
       "<style scoped>\n",
       "    .dataframe tbody tr th:only-of-type {\n",
       "        vertical-align: middle;\n",
       "    }\n",
       "\n",
       "    .dataframe tbody tr th {\n",
       "        vertical-align: top;\n",
       "    }\n",
       "\n",
       "    .dataframe thead th {\n",
       "        text-align: right;\n",
       "    }\n",
       "</style>\n",
       "<table border=\"1\" class=\"dataframe\">\n",
       "  <thead>\n",
       "    <tr style=\"text-align: right;\">\n",
       "      <th></th>\n",
       "      <th>User_ID</th>\n",
       "      <th>Cust_name</th>\n",
       "      <th>Product_ID</th>\n",
       "      <th>Gender</th>\n",
       "      <th>Age Group</th>\n",
       "      <th>Age</th>\n",
       "      <th>Marital_Status</th>\n",
       "      <th>State</th>\n",
       "      <th>Zone</th>\n",
       "      <th>Occupation</th>\n",
       "      <th>Product_Category</th>\n",
       "      <th>Orders</th>\n",
       "      <th>Amount</th>\n",
       "      <th>Status</th>\n",
       "      <th>unnamed1</th>\n",
       "    </tr>\n",
       "  </thead>\n",
       "  <tbody>\n",
       "    <tr>\n",
       "      <th>19</th>\n",
       "      <td>1001883</td>\n",
       "      <td>Praneet</td>\n",
       "      <td>P00029842</td>\n",
       "      <td>M</td>\n",
       "      <td>51-55</td>\n",
       "      <td>54</td>\n",
       "      <td>1</td>\n",
       "      <td>Uttar Pradesh</td>\n",
       "      <td>Central</td>\n",
       "      <td>Hospitality</td>\n",
       "      <td>Auto</td>\n",
       "      <td>1</td>\n",
       "      <td>23568.0</td>\n",
       "      <td>NaN</td>\n",
       "      <td>NaN</td>\n",
       "    </tr>\n",
       "    <tr>\n",
       "      <th>4404</th>\n",
       "      <td>1004725</td>\n",
       "      <td>Jackson</td>\n",
       "      <td>P00150842</td>\n",
       "      <td>F</td>\n",
       "      <td>36-45</td>\n",
       "      <td>37</td>\n",
       "      <td>1</td>\n",
       "      <td>Maharashtra</td>\n",
       "      <td>Western</td>\n",
       "      <td>Hospitality</td>\n",
       "      <td>Electronics &amp; Gadgets</td>\n",
       "      <td>4</td>\n",
       "      <td>9859.0</td>\n",
       "      <td>NaN</td>\n",
       "      <td>NaN</td>\n",
       "    </tr>\n",
       "    <tr>\n",
       "      <th>5703</th>\n",
       "      <td>1003208</td>\n",
       "      <td>Bowman</td>\n",
       "      <td>P00171642</td>\n",
       "      <td>F</td>\n",
       "      <td>26-35</td>\n",
       "      <td>31</td>\n",
       "      <td>0</td>\n",
       "      <td>Bihar</td>\n",
       "      <td>Eastern</td>\n",
       "      <td>Agriculture</td>\n",
       "      <td>Electronics &amp; Gadgets</td>\n",
       "      <td>4</td>\n",
       "      <td>8088.0</td>\n",
       "      <td>NaN</td>\n",
       "      <td>NaN</td>\n",
       "    </tr>\n",
       "    <tr>\n",
       "      <th>5908</th>\n",
       "      <td>1001260</td>\n",
       "      <td>Dheeraj</td>\n",
       "      <td>P00344042</td>\n",
       "      <td>M</td>\n",
       "      <td>26-35</td>\n",
       "      <td>28</td>\n",
       "      <td>0</td>\n",
       "      <td>Maharashtra</td>\n",
       "      <td>Western</td>\n",
       "      <td>IT Sector</td>\n",
       "      <td>Electronics &amp; Gadgets</td>\n",
       "      <td>4</td>\n",
       "      <td>8015.0</td>\n",
       "      <td>NaN</td>\n",
       "      <td>NaN</td>\n",
       "    </tr>\n",
       "    <tr>\n",
       "      <th>6173</th>\n",
       "      <td>1001325</td>\n",
       "      <td>Reese</td>\n",
       "      <td>P00111742</td>\n",
       "      <td>F</td>\n",
       "      <td>26-35</td>\n",
       "      <td>27</td>\n",
       "      <td>1</td>\n",
       "      <td>Gujarat</td>\n",
       "      <td>Western</td>\n",
       "      <td>Construction</td>\n",
       "      <td>Electronics &amp; Gadgets</td>\n",
       "      <td>3</td>\n",
       "      <td>7923.0</td>\n",
       "      <td>NaN</td>\n",
       "      <td>NaN</td>\n",
       "    </tr>\n",
       "    <tr>\n",
       "      <th>8651</th>\n",
       "      <td>1000083</td>\n",
       "      <td>Gute</td>\n",
       "      <td>P00242842</td>\n",
       "      <td>M</td>\n",
       "      <td>26-35</td>\n",
       "      <td>35</td>\n",
       "      <td>0</td>\n",
       "      <td>Uttar Pradesh</td>\n",
       "      <td>Central</td>\n",
       "      <td>Hospitality</td>\n",
       "      <td>Clothing &amp; Apparel</td>\n",
       "      <td>3</td>\n",
       "      <td>5345.0</td>\n",
       "      <td>NaN</td>\n",
       "      <td>NaN</td>\n",
       "    </tr>\n",
       "    <tr>\n",
       "      <th>8941</th>\n",
       "      <td>1001476</td>\n",
       "      <td>Anudeep</td>\n",
       "      <td>P00036842</td>\n",
       "      <td>M</td>\n",
       "      <td>18-25</td>\n",
       "      <td>25</td>\n",
       "      <td>0</td>\n",
       "      <td>Maharashtra</td>\n",
       "      <td>Western</td>\n",
       "      <td>IT Sector</td>\n",
       "      <td>Clothing &amp; Apparel</td>\n",
       "      <td>4</td>\n",
       "      <td>5202.0</td>\n",
       "      <td>NaN</td>\n",
       "      <td>NaN</td>\n",
       "    </tr>\n",
       "    <tr>\n",
       "      <th>10571</th>\n",
       "      <td>1004404</td>\n",
       "      <td>Rittenbach</td>\n",
       "      <td>P00150142</td>\n",
       "      <td>F</td>\n",
       "      <td>26-35</td>\n",
       "      <td>28</td>\n",
       "      <td>1</td>\n",
       "      <td>Haryana</td>\n",
       "      <td>Northern</td>\n",
       "      <td>Aviation</td>\n",
       "      <td>Electronics &amp; Gadgets</td>\n",
       "      <td>3</td>\n",
       "      <td>2304.0</td>\n",
       "      <td>NaN</td>\n",
       "      <td>NaN</td>\n",
       "    </tr>\n",
       "  </tbody>\n",
       "</table>\n",
       "</div>"
      ],
      "text/plain": [
       "       User_ID   Cust_name Product_ID Gender Age Group  Age  Marital_Status  \\\n",
       "19     1001883     Praneet  P00029842      M     51-55   54               1   \n",
       "4404   1004725     Jackson  P00150842      F     36-45   37               1   \n",
       "5703   1003208      Bowman  P00171642      F     26-35   31               0   \n",
       "5908   1001260     Dheeraj  P00344042      M     26-35   28               0   \n",
       "6173   1001325       Reese  P00111742      F     26-35   27               1   \n",
       "8651   1000083        Gute  P00242842      M     26-35   35               0   \n",
       "8941   1001476     Anudeep  P00036842      M     18-25   25               0   \n",
       "10571  1004404  Rittenbach  P00150142      F     26-35   28               1   \n",
       "\n",
       "               State      Zone    Occupation       Product_Category  Orders  \\\n",
       "19     Uttar Pradesh   Central   Hospitality                   Auto       1   \n",
       "4404     Maharashtra   Western   Hospitality  Electronics & Gadgets       4   \n",
       "5703           Bihar   Eastern   Agriculture  Electronics & Gadgets       4   \n",
       "5908     Maharashtra   Western     IT Sector  Electronics & Gadgets       4   \n",
       "6173         Gujarat   Western  Construction  Electronics & Gadgets       3   \n",
       "8651   Uttar Pradesh   Central   Hospitality     Clothing & Apparel       3   \n",
       "8941     Maharashtra   Western     IT Sector     Clothing & Apparel       4   \n",
       "10571        Haryana  Northern      Aviation  Electronics & Gadgets       3   \n",
       "\n",
       "        Amount  Status  unnamed1  \n",
       "19     23568.0     NaN       NaN  \n",
       "4404    9859.0     NaN       NaN  \n",
       "5703    8088.0     NaN       NaN  \n",
       "5908    8015.0     NaN       NaN  \n",
       "6173    7923.0     NaN       NaN  \n",
       "8651    5345.0     NaN       NaN  \n",
       "8941    5202.0     NaN       NaN  \n",
       "10571   2304.0     NaN       NaN  "
      ]
     },
     "execution_count": 15,
     "metadata": {},
     "output_type": "execute_result"
    }
   ],
   "source": [
    "# Fetchung duplicates Recods\n",
    "data[data.duplicated()]"
   ]
  },
  {
   "cell_type": "code",
   "execution_count": 16,
   "id": "3eedde0d",
   "metadata": {},
   "outputs": [],
   "source": [
    "# Dropping these columns : As they were 100% Nulls\n",
    "data.drop(['Status', 'unnamed1'],axis=1,inplace=True)"
   ]
  },
  {
   "cell_type": "code",
   "execution_count": 17,
   "id": "01e2a3e9",
   "metadata": {},
   "outputs": [],
   "source": [
    "# Dropping null values (Impossible to impute)\n",
    "data.dropna(inplace=True)"
   ]
  },
  {
   "cell_type": "code",
   "execution_count": 18,
   "id": "3367bb3a",
   "metadata": {},
   "outputs": [],
   "source": [
    "# Rectifying index after performing Data Cleaning\n",
    "data.drop_duplicates(keep='first',inplace=True)\n",
    "data.reset_index(drop=True,inplace=True)"
   ]
  },
  {
   "cell_type": "markdown",
   "id": "e98ea49f",
   "metadata": {},
   "source": [
    "### Conclussion: \n",
    "1. 'Status', 'unnamed1' - This two column had 100% data missing. \n",
    "2. 12 values was missing in Amount column.\n",
    "3. 8 Duplicate observations were there. "
   ]
  },
  {
   "cell_type": "markdown",
   "id": "9a1d7371",
   "metadata": {},
   "source": [
    "## Few important steps "
   ]
  },
  {
   "cell_type": "code",
   "execution_count": 19,
   "id": "339477a6",
   "metadata": {},
   "outputs": [],
   "source": [
    "# Changing datatype of amount column\n",
    "data['Amount']= data['Amount'].astype('int')"
   ]
  },
  {
   "cell_type": "code",
   "execution_count": 20,
   "id": "a23a7cd7",
   "metadata": {},
   "outputs": [
    {
     "data": {
      "text/html": [
       "<div>\n",
       "<style scoped>\n",
       "    .dataframe tbody tr th:only-of-type {\n",
       "        vertical-align: middle;\n",
       "    }\n",
       "\n",
       "    .dataframe tbody tr th {\n",
       "        vertical-align: top;\n",
       "    }\n",
       "\n",
       "    .dataframe thead th {\n",
       "        text-align: right;\n",
       "    }\n",
       "</style>\n",
       "<table border=\"1\" class=\"dataframe\">\n",
       "  <thead>\n",
       "    <tr style=\"text-align: right;\">\n",
       "      <th></th>\n",
       "      <th>User_ID</th>\n",
       "      <th>Cust_name</th>\n",
       "      <th>Product_ID</th>\n",
       "      <th>Gender</th>\n",
       "      <th>Age Group</th>\n",
       "      <th>Age</th>\n",
       "      <th>Marital_Status</th>\n",
       "      <th>State</th>\n",
       "      <th>Zone</th>\n",
       "      <th>Occupation</th>\n",
       "      <th>Product_Category</th>\n",
       "      <th>Orders</th>\n",
       "      <th>Amount</th>\n",
       "    </tr>\n",
       "  </thead>\n",
       "  <tbody>\n",
       "    <tr>\n",
       "      <th>0</th>\n",
       "      <td>1002903</td>\n",
       "      <td>Sanskriti</td>\n",
       "      <td>P00125942</td>\n",
       "      <td>F</td>\n",
       "      <td>26-35</td>\n",
       "      <td>28</td>\n",
       "      <td>0</td>\n",
       "      <td>Maharashtra</td>\n",
       "      <td>Western</td>\n",
       "      <td>Healthcare</td>\n",
       "      <td>Auto</td>\n",
       "      <td>1</td>\n",
       "      <td>23952</td>\n",
       "    </tr>\n",
       "    <tr>\n",
       "      <th>1</th>\n",
       "      <td>1000732</td>\n",
       "      <td>Kartik</td>\n",
       "      <td>P00110942</td>\n",
       "      <td>F</td>\n",
       "      <td>26-35</td>\n",
       "      <td>35</td>\n",
       "      <td>1</td>\n",
       "      <td>Andhra Pradesh</td>\n",
       "      <td>Southern</td>\n",
       "      <td>Govt</td>\n",
       "      <td>Auto</td>\n",
       "      <td>3</td>\n",
       "      <td>23934</td>\n",
       "    </tr>\n",
       "  </tbody>\n",
       "</table>\n",
       "</div>"
      ],
      "text/plain": [
       "   User_ID  Cust_name Product_ID Gender Age Group  Age  Marital_Status  \\\n",
       "0  1002903  Sanskriti  P00125942      F     26-35   28               0   \n",
       "1  1000732     Kartik  P00110942      F     26-35   35               1   \n",
       "\n",
       "            State      Zone  Occupation Product_Category  Orders  Amount  \n",
       "0     Maharashtra   Western  Healthcare             Auto       1   23952  \n",
       "1  Andhra Pradesh  Southern        Govt             Auto       3   23934  "
      ]
     },
     "execution_count": 20,
     "metadata": {},
     "output_type": "execute_result"
    }
   ],
   "source": [
    "data.head(2)"
   ]
  },
  {
   "cell_type": "code",
   "execution_count": 21,
   "id": "b0e3fea5",
   "metadata": {},
   "outputs": [
    {
     "name": "stdout",
     "output_type": "stream",
     "text": [
      "<class 'pandas.core.frame.DataFrame'>\n",
      "RangeIndex: 11231 entries, 0 to 11230\n",
      "Data columns (total 13 columns):\n",
      " #   Column            Non-Null Count  Dtype \n",
      "---  ------            --------------  ----- \n",
      " 0   User_ID           11231 non-null  int64 \n",
      " 1   Cust_name         11231 non-null  object\n",
      " 2   Product_ID        11231 non-null  object\n",
      " 3   Gender            11231 non-null  object\n",
      " 4   Age Group         11231 non-null  object\n",
      " 5   Age               11231 non-null  int64 \n",
      " 6   Marital_Status    11231 non-null  int64 \n",
      " 7   State             11231 non-null  object\n",
      " 8   Zone              11231 non-null  object\n",
      " 9   Occupation        11231 non-null  object\n",
      " 10  Product_Category  11231 non-null  object\n",
      " 11  Orders            11231 non-null  int64 \n",
      " 12  Amount            11231 non-null  int32 \n",
      "dtypes: int32(1), int64(4), object(8)\n",
      "memory usage: 1.1+ MB\n"
     ]
    }
   ],
   "source": [
    "data.info()"
   ]
  },
  {
   "cell_type": "code",
   "execution_count": 22,
   "id": "4a54d73a",
   "metadata": {},
   "outputs": [
    {
     "data": {
      "text/plain": [
       "User_ID             0\n",
       "Cust_name           0\n",
       "Product_ID          0\n",
       "Gender              0\n",
       "Age Group           0\n",
       "Age                 0\n",
       "Marital_Status      0\n",
       "State               0\n",
       "Zone                0\n",
       "Occupation          0\n",
       "Product_Category    0\n",
       "Orders              0\n",
       "Amount              0\n",
       "dtype: int64"
      ]
     },
     "execution_count": 22,
     "metadata": {},
     "output_type": "execute_result"
    }
   ],
   "source": [
    "data.isnull().sum()"
   ]
  },
  {
   "cell_type": "code",
   "execution_count": 23,
   "id": "8bb8ea04",
   "metadata": {},
   "outputs": [
    {
     "data": {
      "text/plain": [
       "0"
      ]
     },
     "execution_count": 23,
     "metadata": {},
     "output_type": "execute_result"
    }
   ],
   "source": [
    "data.duplicated().sum()"
   ]
  },
  {
   "cell_type": "code",
   "execution_count": null,
   "id": "21292ee6",
   "metadata": {},
   "outputs": [],
   "source": []
  },
  {
   "cell_type": "markdown",
   "id": "ae0e9997",
   "metadata": {},
   "source": [
    "## Exploratory Data Analysis"
   ]
  },
  {
   "cell_type": "code",
   "execution_count": null,
   "id": "28b95cc4",
   "metadata": {},
   "outputs": [],
   "source": []
  },
  {
   "cell_type": "markdown",
   "id": "f9f90fd2",
   "metadata": {},
   "source": [
    "## Based on Gender "
   ]
  },
  {
   "cell_type": "code",
   "execution_count": 24,
   "id": "d5a51f13",
   "metadata": {},
   "outputs": [
    {
     "data": {
      "image/png": "[encoded data removed]",
      "text/plain": [
       "<Figure size 720x360 with 1 Axes>"
      ]
     },
     "metadata": {
      "needs_background": "light"
     },
     "output_type": "display_data"
    }
   ],
   "source": [
    "# By number of Order\n",
    "ax= sns.countplot(data['Gender'])\n",
    "for bars in ax.containers:\n",
    "    ax.bar_label(bars)\n",
    "plt.title('Gender Distribution (Based on No. of Orders placed)')\n",
    "plt.xlabel('Gender')\n",
    "plt.ylabel('No. of Orders')\n",
    "plt.show()"
   ]
  },
  {
   "cell_type": "code",
   "execution_count": 25,
   "id": "db2918d9",
   "metadata": {},
   "outputs": [
    {
     "data": {
      "image/png": "[encoded data removed]",
      "text/plain": [
       "<Figure size 720x360 with 1 Axes>"
      ]
     },
     "metadata": {
      "needs_background": "light"
     },
     "output_type": "display_data"
    }
   ],
   "source": [
    "# By Amount spent\n",
    "gen_amt= data.groupby('Gender')['Amount'].sum().reset_index()\n",
    "ax= sns.barplot(data=gen_amt,x='Gender',y='Amount')\n",
    "plt.title('Gender Distribution (Based on Amount Spent)')\n",
    "plt.xlabel('Gender')\n",
    "plt.ylabel('Amounts')\n",
    "plt.show()"
   ]
  },
  {
   "cell_type": "markdown",
   "id": "4d0fb993",
   "metadata": {},
   "source": [
    "### Explored purchasing behavior differences between male and female customers.\n",
    "1. Order Analysis:\n",
    "- Most buyers are female, indicating a higher volume of orders placed by this demographic segment.\n",
    "2. Revenue Analysis:\n",
    "- Female customers also contribute significantly to revenue generation, indicating their purchasing power and influence on sales."
   ]
  },
  {
   "cell_type": "code",
   "execution_count": null,
   "id": "ea0b3a36",
   "metadata": {},
   "outputs": [],
   "source": []
  },
  {
   "cell_type": "markdown",
   "id": "1bdc2e50",
   "metadata": {},
   "source": [
    "### Based on Age Group "
   ]
  },
  {
   "cell_type": "code",
   "execution_count": 26,
   "id": "10e35f83",
   "metadata": {},
   "outputs": [
    {
     "data": {
      "image/png": "[encoded data removed]",
      "text/plain": [
       "<Figure size 720x360 with 1 Axes>"
      ]
     },
     "metadata": {
      "needs_background": "light"
     },
     "output_type": "display_data"
    }
   ],
   "source": [
    "# By number of Order\n",
    "ax= sns.barplot(data=data,x=data['Age Group'].value_counts().index,y=data['Age Group'].value_counts().values)\n",
    "for bars in ax.containers:\n",
    "    ax.bar_label(bars)\n",
    "plt.title('Age Group Distribution')\n",
    "plt.xlabel('Age Group')\n",
    "plt.ylabel('No. of Customers')\n",
    "plt.show()"
   ]
  },
  {
   "cell_type": "code",
   "execution_count": 27,
   "id": "c16e5c17",
   "metadata": {},
   "outputs": [
    {
     "data": {
      "image/png": "[encoded data removed]",
      "text/plain": [
       "<Figure size 720x360 with 1 Axes>"
      ]
     },
     "metadata": {
      "needs_background": "light"
     },
     "output_type": "display_data"
    }
   ],
   "source": [
    "# By number of Order and gender basis\n",
    "order= data['Age Group'].value_counts().index.tolist() # To maintain the order\n",
    "ax=sns.countplot(data=data,x='Age Group', hue='Gender',order=order)\n",
    "for bars in ax.containers:\n",
    "    ax.bar_label(bars)\n",
    "plt.title('Age Group Distribution (Based on Order)')\n",
    "plt.xlabel('Age Group')\n",
    "plt.ylabel('No. of Orders')\n",
    "plt.show()"
   ]
  },
  {
   "cell_type": "code",
   "execution_count": 28,
   "id": "96ced88c",
   "metadata": {},
   "outputs": [
    {
     "data": {
      "image/png": "[encoded data removed]",
      "text/plain": [
       "<Figure size 720x360 with 1 Axes>"
      ]
     },
     "metadata": {
      "needs_background": "light"
     },
     "output_type": "display_data"
    }
   ],
   "source": [
    "# By Amount spent\n",
    "age_amt= data.groupby('Age Group')['Amount'].sum().reset_index().sort_values(by='Amount',ascending=False)\n",
    "ax= sns.barplot(data=age_amt,x='Age Group',y='Amount')\n",
    "\n",
    "plt.title('Age Group Distribution (Based on Amount)')\n",
    "plt.xlabel('Age Group')\n",
    "plt.ylabel('Amount Spent')\n",
    "plt.show()"
   ]
  },
  {
   "cell_type": "code",
   "execution_count": 29,
   "id": "72cb6897",
   "metadata": {},
   "outputs": [
    {
     "data": {
      "image/png": "[encoded data removed]",
      "text/plain": [
       "<Figure size 720x360 with 1 Axes>"
      ]
     },
     "metadata": {
      "needs_background": "light"
     },
     "output_type": "display_data"
    }
   ],
   "source": [
    "# By Amount spent and gender basis\n",
    "age_amt= data.groupby(['Age Group','Gender'])['Amount'].sum().reset_index().sort_values(by='Amount',ascending=False)\n",
    "ax= sns.barplot(data=age_amt,x='Age Group',y='Amount',hue='Gender')\n",
    "\n",
    "plt.title('Age Group Distribution (Based on Amount Spent)')\n",
    "plt.xlabel('Age Group')\n",
    "plt.ylabel('Amount Spent')\n",
    "plt.show()"
   ]
  },
  {
   "cell_type": "markdown",
   "id": "e62015a2",
   "metadata": {},
   "source": [
    "### Analyzed sales patterns across different age groups to understand consumer preferences.\n",
    "\n",
    "1. Order Analysis:\n",
    "- Age group 26-35 exhibited the highest number of orders, suggesting a strong purchasing presence within this demographic.\n",
    "2. Revenue Analysis:\n",
    "- Similarly, age group 26-35 contributed the most to revenue generation, highlighting their significance in driving sales."
   ]
  },
  {
   "cell_type": "code",
   "execution_count": null,
   "id": "6105623a",
   "metadata": {},
   "outputs": [],
   "source": []
  },
  {
   "cell_type": "markdown",
   "id": "fb1d515a",
   "metadata": {},
   "source": [
    "### Based on Marital Status"
   ]
  },
  {
   "cell_type": "code",
   "execution_count": 30,
   "id": "00f1d8e3",
   "metadata": {},
   "outputs": [
    {
     "data": {
      "image/png": "[encoded data removed]",
      "text/plain": [
       "<Figure size 720x360 with 1 Axes>"
      ]
     },
     "metadata": {
      "needs_background": "light"
     },
     "output_type": "display_data"
    }
   ],
   "source": [
    "# By number of Order\n",
    "ax=sns.countplot(data['Marital_Status'])\n",
    "for bars in ax.containers:\n",
    "    ax.bar_label(bars)\n",
    "    \n",
    "plt.title('Relationship Distribution')\n",
    "plt.xlabel('Marital Status')\n",
    "plt.ylabel('No. of Customers')\n",
    "plt.show()"
   ]
  },
  {
   "cell_type": "code",
   "execution_count": 31,
   "id": "e15adbc5",
   "metadata": {},
   "outputs": [
    {
     "data": {
      "image/png": "[encoded data removed]",
      "text/plain": [
       "<Figure size 720x360 with 1 Axes>"
      ]
     },
     "metadata": {
      "needs_background": "light"
     },
     "output_type": "display_data"
    }
   ],
   "source": [
    "# By number of Order and gender\n",
    "ax=sns.countplot(data=data,x='Marital_Status', hue='Gender')\n",
    "for bars in ax.containers:\n",
    "    ax.bar_label(bars)\n",
    "plt.title('Relationship Distribution (Based on Order)')\n",
    "plt.xlabel('Marital Status')\n",
    "plt.ylabel('No. of Orders')\n",
    "plt.show()"
   ]
  },
  {
   "cell_type": "code",
   "execution_count": 32,
   "id": "1aa550b5",
   "metadata": {},
   "outputs": [
    {
     "data": {
      "image/png": "[encoded data removed]",
      "text/plain": [
       "<Figure size 720x360 with 1 Axes>"
      ]
     },
     "metadata": {
      "needs_background": "light"
     },
     "output_type": "display_data"
    }
   ],
   "source": [
    "# By Amount spent\n",
    "mar_amt= data.groupby('Marital_Status')['Amount'].sum().reset_index().sort_values(by='Amount',ascending=False)\n",
    "ax= sns.barplot(data=mar_amt,x='Marital_Status',y='Amount')\n",
    "plt.title('Relationship Distribution (Based on Amount)')\n",
    "plt.xlabel('Marital Status')\n",
    "plt.ylabel('Amount Spent')\n",
    "plt.show()"
   ]
  },
  {
   "cell_type": "code",
   "execution_count": 33,
   "id": "61cab0b0",
   "metadata": {},
   "outputs": [
    {
     "data": {
      "image/png": "[encoded data removed]",
      "text/plain": [
       "<Figure size 720x360 with 1 Axes>"
      ]
     },
     "metadata": {
      "needs_background": "light"
     },
     "output_type": "display_data"
    }
   ],
   "source": [
    "# By Amount spent and Gender\n",
    "mar_amt= data.groupby(['Marital_Status','Gender'])['Amount'].sum().reset_index().sort_values(by='Amount',ascending=False)\n",
    "ax= sns.barplot(data=mar_amt,x='Marital_Status',y='Amount',hue='Gender')\n",
    "plt.title('Relationship Distribution (Based on Amount)')\n",
    "plt.xlabel('Marital Status')\n",
    "plt.ylabel('Amount Spent')\n",
    "plt.show()"
   ]
  },
  {
   "cell_type": "markdown",
   "id": "b00298a5",
   "metadata": {},
   "source": [
    "### Examined purchasing habits of married vs. single customers.\n",
    "1. Order Analysis:\n",
    "- Most buyers are married, indicating their propensity to engage in sales activities.\n",
    "2. Revenue Analysis:\n",
    "- Married customers also lead in revenue generation, underscoring the importance of this demographic segment in driving overall sales performance. Most importantly, Married woman tends to contributed more in revenue."
   ]
  },
  {
   "cell_type": "code",
   "execution_count": null,
   "id": "62870f69",
   "metadata": {},
   "outputs": [],
   "source": []
  },
  {
   "cell_type": "markdown",
   "id": "bfa55850",
   "metadata": {},
   "source": [
    "### Based on State"
   ]
  },
  {
   "cell_type": "code",
   "execution_count": 34,
   "id": "e9f6cafa",
   "metadata": {},
   "outputs": [
    {
     "data": {
      "image/png": "[encoded data removed]",
      "text/plain": [
       "<Figure size 1152x360 with 1 Axes>"
      ]
     },
     "metadata": {
      "needs_background": "light"
     },
     "output_type": "display_data"
    }
   ],
   "source": [
    "# By number of order\n",
    "plt.figure(figsize=(16,5))\n",
    "state_sales= data.groupby('State')['Orders'].sum().sort_values(ascending=False).reset_index().head(10)\n",
    "\n",
    "sns.barplot(data=state_sales,x=state_sales['State'],y=state_sales['Orders'])\n",
    "plt.title('Top 10 State (Based on Orders)')\n",
    "plt.xlabel('State')\n",
    "plt.ylabel('No. of Orders')\n",
    "plt.show()"
   ]
  },
  {
   "cell_type": "code",
   "execution_count": 35,
   "id": "5553fe26",
   "metadata": {},
   "outputs": [
    {
     "data": {
      "image/png": "[encoded data removed]",
      "text/plain": [
       "<Figure size 1152x360 with 1 Axes>"
      ]
     },
     "metadata": {
      "needs_background": "light"
     },
     "output_type": "display_data"
    }
   ],
   "source": [
    "# Based on amount\n",
    "plt.figure(figsize=(16,5))\n",
    "state_sales= data.groupby('State')['Amount'].sum().sort_values(ascending=False).reset_index().head(10)\n",
    "\n",
    "sns.barplot(data=state_sales,x=state_sales['State'],y=state_sales['Amount'])\n",
    "plt.title('Top 10 State (Based on Revenue)')\n",
    "plt.xlabel('State')\n",
    "plt.ylabel('Revenue')\n",
    "plt.show()"
   ]
  },
  {
   "cell_type": "markdown",
   "id": "d8487338",
   "metadata": {},
   "source": [
    "### Identified the top 10 states with the highest number of orders placed & contribution to Revenue generation\n",
    "1. Order Analysis:\n",
    "- Uttar Pradesh, Maharashtra, Karnataka, Delhi, and Madhya Pradesh emerged as the top states with the highest order volumes.\n",
    "2. Revenue Analysis:\n",
    "- These same states also contributed the most to revenue generation, with Uttar Pradesh, Maharashtra, Karnataka, Delhi, and Madhya Pradesh leading in sales revenue."
   ]
  },
  {
   "cell_type": "code",
   "execution_count": null,
   "id": "cd29c074",
   "metadata": {},
   "outputs": [],
   "source": []
  },
  {
   "cell_type": "markdown",
   "id": "9c342978",
   "metadata": {},
   "source": [
    "### Based on Zones"
   ]
  },
  {
   "cell_type": "code",
   "execution_count": 36,
   "id": "9ea9f7b1",
   "metadata": {},
   "outputs": [
    {
     "data": {
      "image/png": "[encoded data removed]",
      "text/plain": [
       "<Figure size 720x360 with 1 Axes>"
      ]
     },
     "metadata": {
      "needs_background": "light"
     },
     "output_type": "display_data"
    }
   ],
   "source": [
    "# Based on order\n",
    "zone_df= data['Zone'].value_counts().sort_values(ascending=False).reset_index()\n",
    "zone_df.rename(columns={'index':'Zones','Zone':'Order Number'},inplace=True)\n",
    "\n",
    "ax= sns.barplot(data=zone_df, x='Zones',y='Order Number')\n",
    "for bars in ax.containers:\n",
    "    ax.bar_label(bars)\n",
    "plt.title('Zones vs Orders')\n",
    "plt.xlabel('Zones')\n",
    "plt.ylabel('No. of Orders')\n",
    "plt.show()"
   ]
  },
  {
   "cell_type": "code",
   "execution_count": 37,
   "id": "1d57e178",
   "metadata": {},
   "outputs": [
    {
     "data": {
      "image/png": "[encoded data removed]",
      "text/plain": [
       "<Figure size 720x360 with 1 Axes>"
      ]
     },
     "metadata": {
      "needs_background": "light"
     },
     "output_type": "display_data"
    }
   ],
   "source": [
    "# Based on Amount\n",
    "zone_df= data.groupby('Zone')['Amount'].sum().sort_values(ascending=False).reset_index()\n",
    "sns.barplot(data=zone_df,x='Zone',y='Amount')\n",
    "plt.title('Zones vs Revenue')\n",
    "plt.xlabel('Zones')\n",
    "plt.ylabel('Revenue')\n",
    "plt.show()"
   ]
  },
  {
   "cell_type": "markdown",
   "id": "5e9da74a",
   "metadata": {},
   "source": [
    "### Explored sales performance across different geographical zones.\n",
    "1. Order Analysis:\n",
    "- Central and Southern zones exhibited the highest number of orders, indicating strong sales activity in these regions.\n",
    "2. Revenue Analysis:\n",
    "- Similarly, Central and Southern zones contributed the most to revenue generation, highlighting their importance in driving overall sales performance."
   ]
  },
  {
   "cell_type": "code",
   "execution_count": null,
   "id": "780a01ef",
   "metadata": {},
   "outputs": [],
   "source": []
  },
  {
   "cell_type": "markdown",
   "id": "a82e6cb5",
   "metadata": {},
   "source": [
    "### Based on Occupation"
   ]
  },
  {
   "cell_type": "code",
   "execution_count": 38,
   "id": "c917dd5d",
   "metadata": {},
   "outputs": [
    {
     "data": {
      "image/png": "[encoded data removed]",
      "text/plain": [
       "<Figure size 1152x360 with 1 Axes>"
      ]
     },
     "metadata": {
      "needs_background": "light"
     },
     "output_type": "display_data"
    }
   ],
   "source": [
    "# By number of order\n",
    "plt.figure(figsize=(16,5))\n",
    "job_sales= data.groupby('Occupation')['Orders'].sum().sort_values(ascending=False).reset_index().head(10)\n",
    "\n",
    "sns.barplot(data=job_sales,x='Occupation',y='Orders')\n",
    "plt.title('Professional Status vs Orders')\n",
    "plt.xlabel('Occupation')\n",
    "plt.ylabel('No. of Orders')\n",
    "plt.show()"
   ]
  },
  {
   "cell_type": "code",
   "execution_count": 39,
   "id": "4c81af18",
   "metadata": {},
   "outputs": [
    {
     "data": {
      "image/png": "[encoded data removed]",
      "text/plain": [
       "<Figure size 1152x360 with 1 Axes>"
      ]
     },
     "metadata": {
      "needs_background": "light"
     },
     "output_type": "display_data"
    }
   ],
   "source": [
    "# Based on amount\n",
    "plt.figure(figsize=(16,5))\n",
    "job_sales= data.groupby('Occupation')['Amount'].sum().sort_values(ascending=False).reset_index().head(10)\n",
    "\n",
    "sns.barplot(data=job_sales,x='Occupation',y='Amount')\n",
    "plt.title('Professional Status vs Revenue')\n",
    "plt.xlabel('Occupation')\n",
    "plt.ylabel('Revenue')\n",
    "plt.show()"
   ]
  },
  {
   "cell_type": "markdown",
   "id": "b9d8dbc9",
   "metadata": {},
   "source": [
    "### Investigated purchasing behavior based on different professions or occupations. \n",
    "1. Order Analysis:\n",
    "- IT sector, Healthcare, Aviation, and Banking emerged as the top professions with the highest number of orders placed.\n",
    "2. Revenue Analysis:\n",
    "- These same professions also contributed significantly to revenue generation, indicating their purchasing power and economic influence."
   ]
  },
  {
   "cell_type": "code",
   "execution_count": null,
   "id": "b44f33b5",
   "metadata": {},
   "outputs": [],
   "source": []
  },
  {
   "cell_type": "markdown",
   "id": "4b2060df",
   "metadata": {},
   "source": [
    "### Based on Product Catagory"
   ]
  },
  {
   "cell_type": "code",
   "execution_count": 40,
   "id": "d1d3bc8a",
   "metadata": {},
   "outputs": [
    {
     "data": {
      "image/png": "[encoded data removed]",
      "text/plain": [
       "<Figure size 1080x360 with 1 Axes>"
      ]
     },
     "metadata": {
      "needs_background": "light"
     },
     "output_type": "display_data"
    }
   ],
   "source": [
    "# By number of order\n",
    "plt.figure(figsize=(15,5))\n",
    "prod_sales= data.groupby('Product_Category')['Orders'].sum().sort_values(ascending=False).reset_index().head(5)\n",
    "\n",
    "sns.barplot(data=prod_sales,x='Product_Category',y='Orders')\n",
    "\n",
    "plt.title('Top 5 most demanded Products')\n",
    "plt.xlabel('Product Category')\n",
    "plt.ylabel('No. of Orders')\n",
    "plt.show()"
   ]
  },
  {
   "cell_type": "code",
   "execution_count": 41,
   "id": "24464a12",
   "metadata": {},
   "outputs": [
    {
     "data": {
      "image/png": "[encoded data removed]",
      "text/plain": [
       "<Figure size 1152x360 with 1 Axes>"
      ]
     },
     "metadata": {
      "needs_background": "light"
     },
     "output_type": "display_data"
    }
   ],
   "source": [
    "# Based on amount\n",
    "plt.figure(figsize=(16,5))\n",
    "prod_sales= data.groupby('Product_Category')['Amount'].sum().sort_values(ascending=False).reset_index().head(5)\n",
    "\n",
    "sns.barplot(data=prod_sales,x='Product_Category',y='Amount')\n",
    "plt.title('Top 5 profittable Products')\n",
    "plt.xlabel('Product Category')\n",
    "plt.ylabel('Revenue')\n",
    "plt.show()"
   ]
  },
  {
   "cell_type": "markdown",
   "id": "f64abea5",
   "metadata": {},
   "source": [
    "### Determined the top 5 product categories based on the number of orders placed and Revenue Generation: \n",
    "1. Order Analysis:\n",
    "- Food, Clothing & Apparel, and Electronics & Gadgets emerged as the top three product categories in terms of order volume.\n",
    "2. Revenue Analysis:\n",
    "- Similarly, Food, Clothing & Apparel, and Electronics & Gadgets were the top revenue-generating product categories, indicating their popularity and profitability."
   ]
  },
  {
   "cell_type": "code",
   "execution_count": null,
   "id": "a2591eb6",
   "metadata": {},
   "outputs": [],
   "source": []
  },
  {
   "cell_type": "markdown",
   "id": "95958405",
   "metadata": {},
   "source": [
    "### Based on Age"
   ]
  },
  {
   "cell_type": "code",
   "execution_count": 42,
   "id": "0dd0d208",
   "metadata": {},
   "outputs": [
    {
     "data": {
      "text/plain": [
       "<AxesSubplot:xlabel='Age', ylabel='Density'>"
      ]
     },
     "execution_count": 42,
     "metadata": {},
     "output_type": "execute_result"
    },
    {
     "data": {
      "image/png": "[encoded data removed]",
      "text/plain": [
       "<Figure size 720x360 with 1 Axes>"
      ]
     },
     "metadata": {
      "needs_background": "light"
     },
     "output_type": "display_data"
    }
   ],
   "source": [
    "# Distribution of age\n",
    "sns.distplot(data['Age'])"
   ]
  },
  {
   "cell_type": "code",
   "execution_count": 43,
   "id": "d45c636d",
   "metadata": {},
   "outputs": [
    {
     "name": "stdout",
     "output_type": "stream",
     "text": [
      "1.1851485110498947\n",
      "count    11231.000000\n",
      "mean        35.411985\n",
      "std         12.756116\n",
      "min         12.000000\n",
      "25%         27.000000\n",
      "50%         33.000000\n",
      "75%         43.000000\n",
      "max         92.000000\n",
      "Name: Age, dtype: float64\n"
     ]
    }
   ],
   "source": [
    "skewness= data['Age'].skew()\n",
    "age_stat= data['Age'].describe()\n",
    "print(skewness)\n",
    "print(age_stat)"
   ]
  },
  {
   "cell_type": "code",
   "execution_count": 44,
   "id": "2ab44b40",
   "metadata": {},
   "outputs": [
    {
     "data": {
      "text/plain": [
       "<AxesSubplot:xlabel='Age', ylabel='Amount'>"
      ]
     },
     "execution_count": 44,
     "metadata": {},
     "output_type": "execute_result"
    },
    {
     "data": {
      "image/png": "[encoded data removed]",
      "text/plain": [
       "<Figure size 720x360 with 1 Axes>"
      ]
     },
     "metadata": {
      "needs_background": "light"
     },
     "output_type": "display_data"
    }
   ],
   "source": [
    "# Relation between Age and Amount spent \n",
    "sns.scatterplot(data['Age'],data['Amount'])"
   ]
  },
  {
   "cell_type": "code",
   "execution_count": 45,
   "id": "2112396e",
   "metadata": {},
   "outputs": [
    {
     "name": "stdout",
     "output_type": "stream",
     "text": [
      "0.030438226013995456\n",
      "2027.458878233689\n"
     ]
    }
   ],
   "source": [
    "cor= data['Age'].corr(data['Amount'])\n",
    "cov= data['Age'].cov(data['Amount'])\n",
    "print(cor,cov,sep='\\n')"
   ]
  },
  {
   "cell_type": "code",
   "execution_count": 46,
   "id": "d576f2fb",
   "metadata": {},
   "outputs": [
    {
     "data": {
      "text/plain": [
       "<AxesSubplot:xlabel='Age', ylabel='Orders'>"
      ]
     },
     "execution_count": 46,
     "metadata": {},
     "output_type": "execute_result"
    },
    {
     "data": {
      "image/png": "[encoded data removed]",
      "text/plain": [
       "<Figure size 720x360 with 1 Axes>"
      ]
     },
     "metadata": {
      "needs_background": "light"
     },
     "output_type": "display_data"
    }
   ],
   "source": [
    "# Relation between Age and Order\n",
    "sns.scatterplot(data['Age'],data['Orders'])"
   ]
  },
  {
   "cell_type": "code",
   "execution_count": 47,
   "id": "260d8671",
   "metadata": {},
   "outputs": [
    {
     "name": "stdout",
     "output_type": "stream",
     "text": [
      "0.008515347009156956\n",
      "0.12110134674467089\n"
     ]
    }
   ],
   "source": [
    "cor= data['Age'].corr(data['Orders'])\n",
    "cov= data['Age'].cov(data['Orders'])\n",
    "print(cor,cov,sep='\\n')"
   ]
  },
  {
   "cell_type": "markdown",
   "id": "cbf64562",
   "metadata": {},
   "source": [
    "### Conclussion:\n"
   ]
  },
  {
   "cell_type": "code",
   "execution_count": null,
   "id": "1c5cf7b8",
   "metadata": {},
   "outputs": [],
   "source": []
  },
  {
   "cell_type": "markdown",
   "id": "52d6c98f",
   "metadata": {},
   "source": [
    "## Basic Questions and Answer (KPIs)"
   ]
  },
  {
   "cell_type": "markdown",
   "id": "2b0935ea",
   "metadata": {},
   "source": [
    "### KPI 1: Total Sales Amount (The total amount of sales during this Diwali Period)"
   ]
  },
  {
   "cell_type": "code",
   "execution_count": 48,
   "id": "2080c7cc",
   "metadata": {},
   "outputs": [
    {
     "data": {
      "text/plain": [
       "106178825"
      ]
     },
     "execution_count": 48,
     "metadata": {},
     "output_type": "execute_result"
    }
   ],
   "source": [
    "data['Amount'].sum()"
   ]
  },
  {
   "cell_type": "markdown",
   "id": "189ed760",
   "metadata": {},
   "source": [
    "### KPI 2: How many diferent product has been sold?"
   ]
  },
  {
   "cell_type": "code",
   "execution_count": 49,
   "id": "5ccf4989",
   "metadata": {},
   "outputs": [
    {
     "data": {
      "text/plain": [
       "2350"
      ]
     },
     "execution_count": 49,
     "metadata": {},
     "output_type": "execute_result"
    }
   ],
   "source": [
    "data['Product_ID'].nunique()"
   ]
  },
  {
   "cell_type": "markdown",
   "id": "70a26956",
   "metadata": {},
   "source": [
    "### KPI 3: Total Number of Order (The total number of order placed during Diwali)"
   ]
  },
  {
   "cell_type": "code",
   "execution_count": 50,
   "id": "e52009f5",
   "metadata": {},
   "outputs": [
    {
     "data": {
      "text/plain": [
       "27955"
      ]
     },
     "execution_count": 50,
     "metadata": {},
     "output_type": "execute_result"
    }
   ],
   "source": [
    "data['Orders'].sum()"
   ]
  },
  {
   "cell_type": "markdown",
   "id": "426dbec0",
   "metadata": {},
   "source": [
    "### KPI 4: State-Wise Sale Amount (Total,Min,Max,Avg)"
   ]
  },
  {
   "cell_type": "code",
   "execution_count": 51,
   "id": "a4e06609",
   "metadata": {},
   "outputs": [
    {
     "data": {
      "text/html": [
       "<div>\n",
       "<style scoped>\n",
       "    .dataframe tbody tr th:only-of-type {\n",
       "        vertical-align: middle;\n",
       "    }\n",
       "\n",
       "    .dataframe tbody tr th {\n",
       "        vertical-align: top;\n",
       "    }\n",
       "\n",
       "    .dataframe thead th {\n",
       "        text-align: right;\n",
       "    }\n",
       "</style>\n",
       "<table border=\"1\" class=\"dataframe\">\n",
       "  <thead>\n",
       "    <tr style=\"text-align: right;\">\n",
       "      <th></th>\n",
       "      <th>State</th>\n",
       "      <th>min</th>\n",
       "      <th>mean</th>\n",
       "      <th>sum</th>\n",
       "      <th>max</th>\n",
       "    </tr>\n",
       "  </thead>\n",
       "  <tbody>\n",
       "    <tr>\n",
       "      <th>0</th>\n",
       "      <td>Uttar Pradesh</td>\n",
       "      <td>569</td>\n",
       "      <td>9961.923275</td>\n",
       "      <td>19346055</td>\n",
       "      <td>23924</td>\n",
       "    </tr>\n",
       "    <tr>\n",
       "      <th>1</th>\n",
       "      <td>Maharashtra</td>\n",
       "      <td>188</td>\n",
       "      <td>9464.170171</td>\n",
       "      <td>14404467</td>\n",
       "      <td>23952</td>\n",
       "    </tr>\n",
       "    <tr>\n",
       "      <th>2</th>\n",
       "      <td>Karnataka</td>\n",
       "      <td>206</td>\n",
       "      <td>10370.812883</td>\n",
       "      <td>13523540</td>\n",
       "      <td>23912</td>\n",
       "    </tr>\n",
       "    <tr>\n",
       "      <th>3</th>\n",
       "      <td>Delhi</td>\n",
       "      <td>381</td>\n",
       "      <td>10510.704710</td>\n",
       "      <td>11603818</td>\n",
       "      <td>23770</td>\n",
       "    </tr>\n",
       "    <tr>\n",
       "      <th>4</th>\n",
       "      <td>Madhya Pradesh</td>\n",
       "      <td>213</td>\n",
       "      <td>8796.028230</td>\n",
       "      <td>8101142</td>\n",
       "      <td>21079</td>\n",
       "    </tr>\n",
       "    <tr>\n",
       "      <th>5</th>\n",
       "      <td>Andhra Pradesh</td>\n",
       "      <td>560</td>\n",
       "      <td>9910.167694</td>\n",
       "      <td>8037146</td>\n",
       "      <td>23934</td>\n",
       "    </tr>\n",
       "    <tr>\n",
       "      <th>6</th>\n",
       "      <td>Himachal Pradesh</td>\n",
       "      <td>560</td>\n",
       "      <td>8163.434211</td>\n",
       "      <td>4963368</td>\n",
       "      <td>23877</td>\n",
       "    </tr>\n",
       "    <tr>\n",
       "      <th>7</th>\n",
       "      <td>Haryana</td>\n",
       "      <td>367</td>\n",
       "      <td>9352.263858</td>\n",
       "      <td>4217871</td>\n",
       "      <td>21563</td>\n",
       "    </tr>\n",
       "    <tr>\n",
       "      <th>8</th>\n",
       "      <td>Bihar</td>\n",
       "      <td>749</td>\n",
       "      <td>9271.752887</td>\n",
       "      <td>4014669</td>\n",
       "      <td>20860</td>\n",
       "    </tr>\n",
       "    <tr>\n",
       "      <th>9</th>\n",
       "      <td>Gujarat</td>\n",
       "      <td>382</td>\n",
       "      <td>9244.504695</td>\n",
       "      <td>3938159</td>\n",
       "      <td>23877</td>\n",
       "    </tr>\n",
       "    <tr>\n",
       "      <th>10</th>\n",
       "      <td>Kerala</td>\n",
       "      <td>761</td>\n",
       "      <td>8597.110375</td>\n",
       "      <td>3894491</td>\n",
       "      <td>23247</td>\n",
       "    </tr>\n",
       "    <tr>\n",
       "      <th>11</th>\n",
       "      <td>Jharkhand</td>\n",
       "      <td>765</td>\n",
       "      <td>7964.357895</td>\n",
       "      <td>3026456</td>\n",
       "      <td>23285</td>\n",
       "    </tr>\n",
       "    <tr>\n",
       "      <th>12</th>\n",
       "      <td>Uttarakhand</td>\n",
       "      <td>587</td>\n",
       "      <td>7877.950000</td>\n",
       "      <td>2520944</td>\n",
       "      <td>20623</td>\n",
       "    </tr>\n",
       "    <tr>\n",
       "      <th>13</th>\n",
       "      <td>Rajasthan</td>\n",
       "      <td>1040</td>\n",
       "      <td>8265.839827</td>\n",
       "      <td>1909409</td>\n",
       "      <td>20796</td>\n",
       "    </tr>\n",
       "    <tr>\n",
       "      <th>14</th>\n",
       "      <td>Punjab</td>\n",
       "      <td>960</td>\n",
       "      <td>7629.000000</td>\n",
       "      <td>1525800</td>\n",
       "      <td>19644</td>\n",
       "    </tr>\n",
       "    <tr>\n",
       "      <th>15</th>\n",
       "      <td>Telangana</td>\n",
       "      <td>777</td>\n",
       "      <td>9211.920000</td>\n",
       "      <td>1151490</td>\n",
       "      <td>20508</td>\n",
       "    </tr>\n",
       "  </tbody>\n",
       "</table>\n",
       "</div>"
      ],
      "text/plain": [
       "               State   min          mean       sum    max\n",
       "0      Uttar Pradesh   569   9961.923275  19346055  23924\n",
       "1        Maharashtra   188   9464.170171  14404467  23952\n",
       "2          Karnataka   206  10370.812883  13523540  23912\n",
       "3              Delhi   381  10510.704710  11603818  23770\n",
       "4     Madhya Pradesh   213   8796.028230   8101142  21079\n",
       "5     Andhra Pradesh   560   9910.167694   8037146  23934\n",
       "6   Himachal Pradesh   560   8163.434211   4963368  23877\n",
       "7            Haryana   367   9352.263858   4217871  21563\n",
       "8              Bihar   749   9271.752887   4014669  20860\n",
       "9            Gujarat   382   9244.504695   3938159  23877\n",
       "10            Kerala   761   8597.110375   3894491  23247\n",
       "11         Jharkhand   765   7964.357895   3026456  23285\n",
       "12       Uttarakhand   587   7877.950000   2520944  20623\n",
       "13         Rajasthan  1040   8265.839827   1909409  20796\n",
       "14            Punjab   960   7629.000000   1525800  19644\n",
       "15         Telangana   777   9211.920000   1151490  20508"
      ]
     },
     "execution_count": 51,
     "metadata": {},
     "output_type": "execute_result"
    }
   ],
   "source": [
    "state= data.groupby('State')['Amount'].agg({'sum','min','max','mean'}).sort_values(by='sum',ascending=False).reset_index()\n",
    "state"
   ]
  },
  {
   "cell_type": "markdown",
   "id": "7e4cceac",
   "metadata": {},
   "source": [
    "### KPI 5: Zone-Wise Sale Amount (Total,Min,Max,Avg)"
   ]
  },
  {
   "cell_type": "code",
   "execution_count": 52,
   "id": "2a1dd3a0",
   "metadata": {},
   "outputs": [
    {
     "data": {
      "text/html": [
       "<div>\n",
       "<style scoped>\n",
       "    .dataframe tbody tr th:only-of-type {\n",
       "        vertical-align: middle;\n",
       "    }\n",
       "\n",
       "    .dataframe tbody tr th {\n",
       "        vertical-align: top;\n",
       "    }\n",
       "\n",
       "    .dataframe thead th {\n",
       "        text-align: right;\n",
       "    }\n",
       "</style>\n",
       "<table border=\"1\" class=\"dataframe\">\n",
       "  <thead>\n",
       "    <tr style=\"text-align: right;\">\n",
       "      <th></th>\n",
       "      <th>Zone</th>\n",
       "      <th>min</th>\n",
       "      <th>mean</th>\n",
       "      <th>sum</th>\n",
       "      <th>max</th>\n",
       "    </tr>\n",
       "  </thead>\n",
       "  <tbody>\n",
       "    <tr>\n",
       "      <th>0</th>\n",
       "      <td>Central</td>\n",
       "      <td>213</td>\n",
       "      <td>9697.214602</td>\n",
       "      <td>41571959</td>\n",
       "      <td>23924</td>\n",
       "    </tr>\n",
       "    <tr>\n",
       "      <th>1</th>\n",
       "      <td>Southern</td>\n",
       "      <td>206</td>\n",
       "      <td>9879.935759</td>\n",
       "      <td>26606667</td>\n",
       "      <td>23934</td>\n",
       "    </tr>\n",
       "    <tr>\n",
       "      <th>2</th>\n",
       "      <td>Western</td>\n",
       "      <td>188</td>\n",
       "      <td>9416.132444</td>\n",
       "      <td>18342626</td>\n",
       "      <td>23952</td>\n",
       "    </tr>\n",
       "    <tr>\n",
       "      <th>3</th>\n",
       "      <td>Northern</td>\n",
       "      <td>367</td>\n",
       "      <td>8467.414765</td>\n",
       "      <td>12616448</td>\n",
       "      <td>23877</td>\n",
       "    </tr>\n",
       "    <tr>\n",
       "      <th>4</th>\n",
       "      <td>Eastern</td>\n",
       "      <td>749</td>\n",
       "      <td>8660.670357</td>\n",
       "      <td>7041125</td>\n",
       "      <td>23285</td>\n",
       "    </tr>\n",
       "  </tbody>\n",
       "</table>\n",
       "</div>"
      ],
      "text/plain": [
       "       Zone  min         mean       sum    max\n",
       "0   Central  213  9697.214602  41571959  23924\n",
       "1  Southern  206  9879.935759  26606667  23934\n",
       "2   Western  188  9416.132444  18342626  23952\n",
       "3  Northern  367  8467.414765  12616448  23877\n",
       "4   Eastern  749  8660.670357   7041125  23285"
      ]
     },
     "execution_count": 52,
     "metadata": {},
     "output_type": "execute_result"
    }
   ],
   "source": [
    "zone= data.groupby('Zone')['Amount'].agg({'sum','min','max','mean'}).sort_values(by='sum',ascending=False).reset_index()\n",
    "zone"
   ]
  },
  {
   "cell_type": "markdown",
   "id": "7d572724",
   "metadata": {},
   "source": [
    "### KPI 6: How many unique users perticipated  in this Diwali Sales?"
   ]
  },
  {
   "cell_type": "code",
   "execution_count": 53,
   "id": "5b1cde72",
   "metadata": {},
   "outputs": [
    {
     "data": {
      "text/plain": [
       "3752"
      ]
     },
     "execution_count": 53,
     "metadata": {},
     "output_type": "execute_result"
    }
   ],
   "source": [
    "data['User_ID'].nunique()"
   ]
  },
  {
   "cell_type": "markdown",
   "id": "7449add6",
   "metadata": {},
   "source": [
    "### KPI 7: Gender Distribution of Customer "
   ]
  },
  {
   "cell_type": "code",
   "execution_count": 54,
   "id": "371176eb",
   "metadata": {},
   "outputs": [
    {
     "data": {
      "image/png": "[encoded data removed]",
      "text/plain": [
       "<Figure size 720x360 with 1 Axes>"
      ]
     },
     "metadata": {},
     "output_type": "display_data"
    }
   ],
   "source": [
    "gender_counts= data['Gender'].value_counts()\n",
    "explode=(0,0.02)\n",
    "plt.pie(gender_counts,labels=gender_counts.index,autopct='%1.1f%%',explode=explode)\n",
    "plt.title('Gender Distribution of Customer')\n",
    "plt.show()"
   ]
  },
  {
   "cell_type": "markdown",
   "id": "10188ead",
   "metadata": {},
   "source": [
    "### KPI 8: Marital Status Distribution of Customer "
   ]
  },
  {
   "cell_type": "code",
   "execution_count": 55,
   "id": "2251a3e7",
   "metadata": {},
   "outputs": [
    {
     "data": {
      "image/png": "[encoded data removed]",
      "text/plain": [
       "<Figure size 720x360 with 1 Axes>"
      ]
     },
     "metadata": {},
     "output_type": "display_data"
    }
   ],
   "source": [
    "mar_counts= data['Marital_Status'].value_counts()\n",
    "explode=(0,0.02)\n",
    "plt.pie(mar_counts,labels=mar_counts.index,autopct='%1.1f%%',explode=explode)\n",
    "plt.title('Marital Status Distribution of Customer')\n",
    "plt.show()"
   ]
  },
  {
   "cell_type": "markdown",
   "id": "79cf0ffa",
   "metadata": {},
   "source": [
    "### KPI 9: Age Distribution of Customer "
   ]
  },
  {
   "cell_type": "code",
   "execution_count": 56,
   "id": "b8df234c",
   "metadata": {},
   "outputs": [
    {
     "data": {
      "image/png": "[encoded data removed]",
      "text/plain": [
       "<Figure size 1080x360 with 1 Axes>"
      ]
     },
     "metadata": {},
     "output_type": "display_data"
    }
   ],
   "source": [
    "plt.figure(figsize=(15,5))\n",
    "age_counts= data['Age Group'].value_counts()\n",
    "explode=(0,0.1,0,0,0,0,0)\n",
    "plt.pie(age_counts,labels=age_counts.index,autopct='%1.1f%%',explode=explode)\n",
    "plt.title('Age Group Distribution of Customer')\n",
    "plt.show()"
   ]
  },
  {
   "cell_type": "markdown",
   "id": "a7e6c9fb",
   "metadata": {},
   "source": [
    "### KPI 10: Top 3 State and 2 Zone (interms of Order and Sales)"
   ]
  },
  {
   "cell_type": "code",
   "execution_count": 57,
   "id": "ea0a67b4",
   "metadata": {},
   "outputs": [
    {
     "data": {
      "text/html": [
       "<div>\n",
       "<style scoped>\n",
       "    .dataframe tbody tr th:only-of-type {\n",
       "        vertical-align: middle;\n",
       "    }\n",
       "\n",
       "    .dataframe tbody tr th {\n",
       "        vertical-align: top;\n",
       "    }\n",
       "\n",
       "    .dataframe thead th {\n",
       "        text-align: right;\n",
       "    }\n",
       "</style>\n",
       "<table border=\"1\" class=\"dataframe\">\n",
       "  <thead>\n",
       "    <tr style=\"text-align: right;\">\n",
       "      <th></th>\n",
       "      <th>State</th>\n",
       "      <th>Amount</th>\n",
       "    </tr>\n",
       "  </thead>\n",
       "  <tbody>\n",
       "    <tr>\n",
       "      <th>0</th>\n",
       "      <td>Uttar Pradesh</td>\n",
       "      <td>19346055</td>\n",
       "    </tr>\n",
       "    <tr>\n",
       "      <th>1</th>\n",
       "      <td>Maharashtra</td>\n",
       "      <td>14404467</td>\n",
       "    </tr>\n",
       "    <tr>\n",
       "      <th>2</th>\n",
       "      <td>Karnataka</td>\n",
       "      <td>13523540</td>\n",
       "    </tr>\n",
       "  </tbody>\n",
       "</table>\n",
       "</div>"
      ],
      "text/plain": [
       "           State    Amount\n",
       "0  Uttar Pradesh  19346055\n",
       "1    Maharashtra  14404467\n",
       "2      Karnataka  13523540"
      ]
     },
     "execution_count": 57,
     "metadata": {},
     "output_type": "execute_result"
    }
   ],
   "source": [
    "data.groupby('State').Amount.sum().sort_values(ascending=False).reset_index().head(3)"
   ]
  },
  {
   "cell_type": "code",
   "execution_count": 58,
   "id": "c5de8494",
   "metadata": {},
   "outputs": [
    {
     "data": {
      "text/html": [
       "<div>\n",
       "<style scoped>\n",
       "    .dataframe tbody tr th:only-of-type {\n",
       "        vertical-align: middle;\n",
       "    }\n",
       "\n",
       "    .dataframe tbody tr th {\n",
       "        vertical-align: top;\n",
       "    }\n",
       "\n",
       "    .dataframe thead th {\n",
       "        text-align: right;\n",
       "    }\n",
       "</style>\n",
       "<table border=\"1\" class=\"dataframe\">\n",
       "  <thead>\n",
       "    <tr style=\"text-align: right;\">\n",
       "      <th></th>\n",
       "      <th>State</th>\n",
       "      <th>Orders</th>\n",
       "    </tr>\n",
       "  </thead>\n",
       "  <tbody>\n",
       "    <tr>\n",
       "      <th>0</th>\n",
       "      <td>Uttar Pradesh</td>\n",
       "      <td>4803</td>\n",
       "    </tr>\n",
       "    <tr>\n",
       "      <th>1</th>\n",
       "      <td>Maharashtra</td>\n",
       "      <td>3798</td>\n",
       "    </tr>\n",
       "    <tr>\n",
       "      <th>2</th>\n",
       "      <td>Karnataka</td>\n",
       "      <td>3240</td>\n",
       "    </tr>\n",
       "  </tbody>\n",
       "</table>\n",
       "</div>"
      ],
      "text/plain": [
       "           State  Orders\n",
       "0  Uttar Pradesh    4803\n",
       "1    Maharashtra    3798\n",
       "2      Karnataka    3240"
      ]
     },
     "execution_count": 58,
     "metadata": {},
     "output_type": "execute_result"
    }
   ],
   "source": [
    "data.groupby('State').Orders.sum().sort_values(ascending=False).reset_index().head(3)"
   ]
  },
  {
   "cell_type": "code",
   "execution_count": 59,
   "id": "7ce42efd",
   "metadata": {},
   "outputs": [
    {
     "data": {
      "text/html": [
       "<div>\n",
       "<style scoped>\n",
       "    .dataframe tbody tr th:only-of-type {\n",
       "        vertical-align: middle;\n",
       "    }\n",
       "\n",
       "    .dataframe tbody tr th {\n",
       "        vertical-align: top;\n",
       "    }\n",
       "\n",
       "    .dataframe thead th {\n",
       "        text-align: right;\n",
       "    }\n",
       "</style>\n",
       "<table border=\"1\" class=\"dataframe\">\n",
       "  <thead>\n",
       "    <tr style=\"text-align: right;\">\n",
       "      <th></th>\n",
       "      <th>Zone</th>\n",
       "      <th>Amount</th>\n",
       "    </tr>\n",
       "  </thead>\n",
       "  <tbody>\n",
       "    <tr>\n",
       "      <th>0</th>\n",
       "      <td>Central</td>\n",
       "      <td>41571959</td>\n",
       "    </tr>\n",
       "    <tr>\n",
       "      <th>1</th>\n",
       "      <td>Southern</td>\n",
       "      <td>26606667</td>\n",
       "    </tr>\n",
       "    <tr>\n",
       "      <th>2</th>\n",
       "      <td>Western</td>\n",
       "      <td>18342626</td>\n",
       "    </tr>\n",
       "  </tbody>\n",
       "</table>\n",
       "</div>"
      ],
      "text/plain": [
       "       Zone    Amount\n",
       "0   Central  41571959\n",
       "1  Southern  26606667\n",
       "2   Western  18342626"
      ]
     },
     "execution_count": 59,
     "metadata": {},
     "output_type": "execute_result"
    }
   ],
   "source": [
    "data.groupby('Zone').Amount.sum().sort_values(ascending=False).reset_index().head(3)"
   ]
  },
  {
   "cell_type": "code",
   "execution_count": 60,
   "id": "c158e35d",
   "metadata": {},
   "outputs": [
    {
     "data": {
      "text/html": [
       "<div>\n",
       "<style scoped>\n",
       "    .dataframe tbody tr th:only-of-type {\n",
       "        vertical-align: middle;\n",
       "    }\n",
       "\n",
       "    .dataframe tbody tr th {\n",
       "        vertical-align: top;\n",
       "    }\n",
       "\n",
       "    .dataframe thead th {\n",
       "        text-align: right;\n",
       "    }\n",
       "</style>\n",
       "<table border=\"1\" class=\"dataframe\">\n",
       "  <thead>\n",
       "    <tr style=\"text-align: right;\">\n",
       "      <th></th>\n",
       "      <th>Zone</th>\n",
       "      <th>Amount</th>\n",
       "    </tr>\n",
       "  </thead>\n",
       "  <tbody>\n",
       "    <tr>\n",
       "      <th>0</th>\n",
       "      <td>Central</td>\n",
       "      <td>41571959</td>\n",
       "    </tr>\n",
       "    <tr>\n",
       "      <th>1</th>\n",
       "      <td>Southern</td>\n",
       "      <td>26606667</td>\n",
       "    </tr>\n",
       "    <tr>\n",
       "      <th>2</th>\n",
       "      <td>Western</td>\n",
       "      <td>18342626</td>\n",
       "    </tr>\n",
       "  </tbody>\n",
       "</table>\n",
       "</div>"
      ],
      "text/plain": [
       "       Zone    Amount\n",
       "0   Central  41571959\n",
       "1  Southern  26606667\n",
       "2   Western  18342626"
      ]
     },
     "execution_count": 60,
     "metadata": {},
     "output_type": "execute_result"
    }
   ],
   "source": [
    "data.groupby('Zone').Amount.sum().sort_values(ascending=False).reset_index().head(3)"
   ]
  },
  {
   "cell_type": "markdown",
   "id": "8ae3d2d0",
   "metadata": {},
   "source": [
    "### KPI 11: Top Selling Product Catagory "
   ]
  },
  {
   "cell_type": "code",
   "execution_count": 61,
   "id": "4a9da5a1",
   "metadata": {},
   "outputs": [
    {
     "data": {
      "text/html": [
       "<div>\n",
       "<style scoped>\n",
       "    .dataframe tbody tr th:only-of-type {\n",
       "        vertical-align: middle;\n",
       "    }\n",
       "\n",
       "    .dataframe tbody tr th {\n",
       "        vertical-align: top;\n",
       "    }\n",
       "\n",
       "    .dataframe thead th {\n",
       "        text-align: right;\n",
       "    }\n",
       "</style>\n",
       "<table border=\"1\" class=\"dataframe\">\n",
       "  <thead>\n",
       "    <tr style=\"text-align: right;\">\n",
       "      <th></th>\n",
       "      <th>Product_Category</th>\n",
       "      <th>Amount</th>\n",
       "    </tr>\n",
       "  </thead>\n",
       "  <tbody>\n",
       "    <tr>\n",
       "      <th>0</th>\n",
       "      <td>Food</td>\n",
       "      <td>33933883</td>\n",
       "    </tr>\n",
       "    <tr>\n",
       "      <th>1</th>\n",
       "      <td>Clothing &amp; Apparel</td>\n",
       "      <td>16484472</td>\n",
       "    </tr>\n",
       "    <tr>\n",
       "      <th>2</th>\n",
       "      <td>Electronics &amp; Gadgets</td>\n",
       "      <td>15607657</td>\n",
       "    </tr>\n",
       "  </tbody>\n",
       "</table>\n",
       "</div>"
      ],
      "text/plain": [
       "        Product_Category    Amount\n",
       "0                   Food  33933883\n",
       "1     Clothing & Apparel  16484472\n",
       "2  Electronics & Gadgets  15607657"
      ]
     },
     "execution_count": 61,
     "metadata": {},
     "output_type": "execute_result"
    }
   ],
   "source": [
    "data.groupby('Product_Category').Amount.sum().sort_values(ascending=False).reset_index().head(3)"
   ]
  },
  {
   "cell_type": "code",
   "execution_count": null,
   "id": "252f3c42",
   "metadata": {},
   "outputs": [],
   "source": []
  },
  {
   "cell_type": "markdown",
   "id": "23c22a2f",
   "metadata": {},
   "source": [
    "# Conclussion: \n",
    "\n",
    "* Total Revenue:  106178825\n",
    "* Total Number of Orders: 27955 \n",
    "* No. of Different Product Sold: 2350\n",
    "* Most of the buyers are Married woman age group 26-35 Years from UP.\n",
    "* Foods and Clothings are the highest revenue generated Products. Electronics are the number three. \n",
    "* IT, Heathcare and Aation professionals are more likely to buy products."
   ]
  },
  {
   "cell_type": "code",
   "execution_count": null,
   "id": "df4f99eb",
   "metadata": {},
   "outputs": [],
   "source": []
  }
 ],
 "metadata": {
  "kernelspec": {
   "display_name": "Python 3 (ipykernel)",
   "language": "python",
   "name": "python3"
  },
  "language_info": {
   "codemirror_mode": {
    "name": "ipython",
    "version": 3
   },
   "file_extension": ".py",
   "mimetype": "text/x-python",
   "name": "python",
   "nbconvert_exporter": "python",
   "pygments_lexer": "ipython3",
   "version": "3.9.12"
  }
 },
 "nbformat": 4,
 "nbformat_minor": 5
}
